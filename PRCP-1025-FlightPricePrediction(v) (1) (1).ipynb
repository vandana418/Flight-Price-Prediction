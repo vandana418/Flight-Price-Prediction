{
 "cells": [
  {
   "cell_type": "markdown",
   "id": "f95e8253-2b2e-4cc9-a18e-91df09943749",
   "metadata": {},
   "source": [
    "## project Team Id -PTID-CDS-AUG-24-2025\n",
    "### Project ID-PRCP-1025\n",
    "#### Flight Price Prediction Using ML Techniques"
   ]
  },
  {
   "cell_type": "markdown",
   "id": "ec01d86a-f941-4c23-88d7-36b92f5e2d3b",
   "metadata": {},
   "source": [
    "## Problem statement\n",
    "Flight ticket prices can be something hard to guess, today we might see a price, check out the price of the same flight tomorrow, it will be a different story. We might have often heard travelers saying that flight ticket prices are so unpredictable. That’s why we will try to use machine learning to solve this problem. This can help airlines by predicting what prices they can maintain. \n",
    "\n",
    "**Task 1:-** Prepare a complete data analysis report on the given data.\n",
    "\n",
    "**Task 2:-** Create a predictive model which will help the customers to predict future flight prices and plan their journey accordingly.\n"
   ]
  },
  {
   "cell_type": "markdown",
   "id": "e0383895-4498-4643-952c-6b727520c624",
   "metadata": {},
   "source": [
    "# Data Analysis\n",
    "**Observation/Insights:**\n",
    "\n",
    "* There are 11 features (columns) and 10683 records (rows) in the Flight Fare data set.\n",
    "* There are 10 features belonging to Object data type.\n",
    "* Only the Target variable 'Price' is Integer type.\n",
    "* There is only 1 missing record present in 'Route' column and 1 in 'Total_Stops' column.\n",
    "* From Statistical analysis of numerical variables, No Constant data, No Corrupt data\n",
    "* From Statistical analysis of categorical variables, No Constant data"
   ]
  },
  {
   "cell_type": "markdown",
   "id": "93ff1d1d-7127-4901-8d80-eaf780f95a7d",
   "metadata": {},
   "source": [
    "**BUSINESS CASE 1:**\n",
    "To prepare a complete Data Analysis Report using Flight Price Prediction Dataset\n"
   ]
  },
  {
   "cell_type": "markdown",
   "id": "9cf237a7",
   "metadata": {},
   "source": [
    "### Importing Libraries"
   ]
  },
  {
   "cell_type": "code",
   "execution_count": 31,
   "id": "668bf356",
   "metadata": {},
   "outputs": [],
   "source": [
    "import numpy as np\n",
    "import pandas as pd\n",
    "import seaborn as sns\n",
    "import matplotlib.pyplot as plt\n",
    "%matplotlib inline \n",
    "\n",
    "import warnings\n",
    "warnings.filterwarnings('ignore')"
   ]
  },
  {
   "cell_type": "markdown",
   "id": "0b70f3cb",
   "metadata": {},
   "source": [
    "### Loading the dataset"
   ]
  },
  {
   "cell_type": "code",
   "execution_count": 34,
   "id": "015fd06c",
   "metadata": {},
   "outputs": [
    {
     "data": {
      "text/html": [
       "<div>\n",
       "<style scoped>\n",
       "    .dataframe tbody tr th:only-of-type {\n",
       "        vertical-align: middle;\n",
       "    }\n",
       "\n",
       "    .dataframe tbody tr th {\n",
       "        vertical-align: top;\n",
       "    }\n",
       "\n",
       "    .dataframe thead th {\n",
       "        text-align: right;\n",
       "    }\n",
       "</style>\n",
       "<table border=\"1\" class=\"dataframe\">\n",
       "  <thead>\n",
       "    <tr style=\"text-align: right;\">\n",
       "      <th></th>\n",
       "      <th>Airline</th>\n",
       "      <th>Date_of_Journey</th>\n",
       "      <th>Source</th>\n",
       "      <th>Destination</th>\n",
       "      <th>Route</th>\n",
       "      <th>Dep_Time</th>\n",
       "      <th>Arrival_Time</th>\n",
       "      <th>Duration</th>\n",
       "      <th>Total_Stops</th>\n",
       "      <th>Additional_Info</th>\n",
       "      <th>Price</th>\n",
       "    </tr>\n",
       "  </thead>\n",
       "  <tbody>\n",
       "    <tr>\n",
       "      <th>0</th>\n",
       "      <td>IndiGo</td>\n",
       "      <td>24/03/2019</td>\n",
       "      <td>Banglore</td>\n",
       "      <td>New Delhi</td>\n",
       "      <td>BLR → DEL</td>\n",
       "      <td>22:20</td>\n",
       "      <td>01:10 22 Mar</td>\n",
       "      <td>2h 50m</td>\n",
       "      <td>non-stop</td>\n",
       "      <td>No info</td>\n",
       "      <td>3897</td>\n",
       "    </tr>\n",
       "    <tr>\n",
       "      <th>1</th>\n",
       "      <td>Air India</td>\n",
       "      <td>1/05/2019</td>\n",
       "      <td>Kolkata</td>\n",
       "      <td>Banglore</td>\n",
       "      <td>CCU → IXR → BBI → BLR</td>\n",
       "      <td>05:50</td>\n",
       "      <td>13:15</td>\n",
       "      <td>7h 25m</td>\n",
       "      <td>2 stops</td>\n",
       "      <td>No info</td>\n",
       "      <td>7662</td>\n",
       "    </tr>\n",
       "    <tr>\n",
       "      <th>2</th>\n",
       "      <td>Jet Airways</td>\n",
       "      <td>9/06/2019</td>\n",
       "      <td>Delhi</td>\n",
       "      <td>Cochin</td>\n",
       "      <td>DEL → LKO → BOM → COK</td>\n",
       "      <td>09:25</td>\n",
       "      <td>04:25 10 Jun</td>\n",
       "      <td>19h</td>\n",
       "      <td>2 stops</td>\n",
       "      <td>No info</td>\n",
       "      <td>13882</td>\n",
       "    </tr>\n",
       "    <tr>\n",
       "      <th>3</th>\n",
       "      <td>IndiGo</td>\n",
       "      <td>12/05/2019</td>\n",
       "      <td>Kolkata</td>\n",
       "      <td>Banglore</td>\n",
       "      <td>CCU → NAG → BLR</td>\n",
       "      <td>18:05</td>\n",
       "      <td>23:30</td>\n",
       "      <td>5h 25m</td>\n",
       "      <td>1 stop</td>\n",
       "      <td>No info</td>\n",
       "      <td>6218</td>\n",
       "    </tr>\n",
       "    <tr>\n",
       "      <th>4</th>\n",
       "      <td>IndiGo</td>\n",
       "      <td>01/03/2019</td>\n",
       "      <td>Banglore</td>\n",
       "      <td>New Delhi</td>\n",
       "      <td>BLR → NAG → DEL</td>\n",
       "      <td>16:50</td>\n",
       "      <td>21:35</td>\n",
       "      <td>4h 45m</td>\n",
       "      <td>1 stop</td>\n",
       "      <td>No info</td>\n",
       "      <td>13302</td>\n",
       "    </tr>\n",
       "    <tr>\n",
       "      <th>...</th>\n",
       "      <td>...</td>\n",
       "      <td>...</td>\n",
       "      <td>...</td>\n",
       "      <td>...</td>\n",
       "      <td>...</td>\n",
       "      <td>...</td>\n",
       "      <td>...</td>\n",
       "      <td>...</td>\n",
       "      <td>...</td>\n",
       "      <td>...</td>\n",
       "      <td>...</td>\n",
       "    </tr>\n",
       "    <tr>\n",
       "      <th>10678</th>\n",
       "      <td>Air Asia</td>\n",
       "      <td>9/04/2019</td>\n",
       "      <td>Kolkata</td>\n",
       "      <td>Banglore</td>\n",
       "      <td>CCU → BLR</td>\n",
       "      <td>19:55</td>\n",
       "      <td>22:25</td>\n",
       "      <td>2h 30m</td>\n",
       "      <td>non-stop</td>\n",
       "      <td>No info</td>\n",
       "      <td>4107</td>\n",
       "    </tr>\n",
       "    <tr>\n",
       "      <th>10679</th>\n",
       "      <td>Air India</td>\n",
       "      <td>27/04/2019</td>\n",
       "      <td>Kolkata</td>\n",
       "      <td>Banglore</td>\n",
       "      <td>CCU → BLR</td>\n",
       "      <td>20:45</td>\n",
       "      <td>23:20</td>\n",
       "      <td>2h 35m</td>\n",
       "      <td>non-stop</td>\n",
       "      <td>No info</td>\n",
       "      <td>4145</td>\n",
       "    </tr>\n",
       "    <tr>\n",
       "      <th>10680</th>\n",
       "      <td>Jet Airways</td>\n",
       "      <td>27/04/2019</td>\n",
       "      <td>Banglore</td>\n",
       "      <td>Delhi</td>\n",
       "      <td>BLR → DEL</td>\n",
       "      <td>08:20</td>\n",
       "      <td>11:20</td>\n",
       "      <td>3h</td>\n",
       "      <td>non-stop</td>\n",
       "      <td>No info</td>\n",
       "      <td>7229</td>\n",
       "    </tr>\n",
       "    <tr>\n",
       "      <th>10681</th>\n",
       "      <td>Vistara</td>\n",
       "      <td>01/03/2019</td>\n",
       "      <td>Banglore</td>\n",
       "      <td>New Delhi</td>\n",
       "      <td>BLR → DEL</td>\n",
       "      <td>11:30</td>\n",
       "      <td>14:10</td>\n",
       "      <td>2h 40m</td>\n",
       "      <td>non-stop</td>\n",
       "      <td>No info</td>\n",
       "      <td>12648</td>\n",
       "    </tr>\n",
       "    <tr>\n",
       "      <th>10682</th>\n",
       "      <td>Air India</td>\n",
       "      <td>9/05/2019</td>\n",
       "      <td>Delhi</td>\n",
       "      <td>Cochin</td>\n",
       "      <td>DEL → GOI → BOM → COK</td>\n",
       "      <td>10:55</td>\n",
       "      <td>19:15</td>\n",
       "      <td>8h 20m</td>\n",
       "      <td>2 stops</td>\n",
       "      <td>No info</td>\n",
       "      <td>11753</td>\n",
       "    </tr>\n",
       "  </tbody>\n",
       "</table>\n",
       "<p>10683 rows × 11 columns</p>\n",
       "</div>"
      ],
      "text/plain": [
       "           Airline Date_of_Journey    Source Destination  \\\n",
       "0           IndiGo      24/03/2019  Banglore   New Delhi   \n",
       "1        Air India       1/05/2019   Kolkata    Banglore   \n",
       "2      Jet Airways       9/06/2019     Delhi      Cochin   \n",
       "3           IndiGo      12/05/2019   Kolkata    Banglore   \n",
       "4           IndiGo      01/03/2019  Banglore   New Delhi   \n",
       "...            ...             ...       ...         ...   \n",
       "10678     Air Asia       9/04/2019   Kolkata    Banglore   \n",
       "10679    Air India      27/04/2019   Kolkata    Banglore   \n",
       "10680  Jet Airways      27/04/2019  Banglore       Delhi   \n",
       "10681      Vistara      01/03/2019  Banglore   New Delhi   \n",
       "10682    Air India       9/05/2019     Delhi      Cochin   \n",
       "\n",
       "                       Route Dep_Time  Arrival_Time Duration Total_Stops  \\\n",
       "0                  BLR → DEL    22:20  01:10 22 Mar   2h 50m    non-stop   \n",
       "1      CCU → IXR → BBI → BLR    05:50         13:15   7h 25m     2 stops   \n",
       "2      DEL → LKO → BOM → COK    09:25  04:25 10 Jun      19h     2 stops   \n",
       "3            CCU → NAG → BLR    18:05         23:30   5h 25m      1 stop   \n",
       "4            BLR → NAG → DEL    16:50         21:35   4h 45m      1 stop   \n",
       "...                      ...      ...           ...      ...         ...   \n",
       "10678              CCU → BLR    19:55         22:25   2h 30m    non-stop   \n",
       "10679              CCU → BLR    20:45         23:20   2h 35m    non-stop   \n",
       "10680              BLR → DEL    08:20         11:20       3h    non-stop   \n",
       "10681              BLR → DEL    11:30         14:10   2h 40m    non-stop   \n",
       "10682  DEL → GOI → BOM → COK    10:55         19:15   8h 20m     2 stops   \n",
       "\n",
       "      Additional_Info  Price  \n",
       "0             No info   3897  \n",
       "1             No info   7662  \n",
       "2             No info  13882  \n",
       "3             No info   6218  \n",
       "4             No info  13302  \n",
       "...               ...    ...  \n",
       "10678         No info   4107  \n",
       "10679         No info   4145  \n",
       "10680         No info   7229  \n",
       "10681         No info  12648  \n",
       "10682         No info  11753  \n",
       "\n",
       "[10683 rows x 11 columns]"
      ]
     },
     "execution_count": 34,
     "metadata": {},
     "output_type": "execute_result"
    }
   ],
   "source": [
    "df = pd.read_excel('Flight_Fare.xlsx')\n",
    "df"
   ]
  },
  {
   "cell_type": "code",
   "execution_count": 36,
   "id": "4c4abbe6",
   "metadata": {},
   "outputs": [],
   "source": [
    "# Copying data set to keep as Back-up\n",
    "\n",
    "df_Backup = df.copy()"
   ]
  },
  {
   "cell_type": "markdown",
   "id": "d0551a60",
   "metadata": {},
   "source": [
    "### Attribute info:\n",
    "1. **Airline:** This column will have all the types of airlines like Indigo, Jet Airways, Air India, and many more.\n",
    "2. **Date_of_Journey:** This column will let us know about the date on which the passenger’s journey will start.\n",
    "3. **Source:** This column holds the name of the place from where the passenger’s journey will start.\n",
    "4. **Destination:** This column holds the name of the place to where passengers wanted to travel.\n",
    "5. **Route:** This column tells what is the route through which passengers have opted to travel from his/her source to their destination.\n",
    "6. **Dep_Time:** Departure time is when the flight will depart from the source.\n",
    "7. **Arrival_Time:** Arrival time is when the passenger will reach his/her destination.\n",
    "8. **Duration:** Duration is the whole period that a flight will take to complete its journey from source to destination.\n",
    "9. **Total_Stops:** This will let us know in how many places flights will stop there for the flight in the whole journey.\n",
    "10. **Additional_Info:** In this column, we will get information about food, kind of food, and other amenities.\n",
    "11. **Price:** Price of the flight for a complete journey including all the expenses before onboarding."
   ]
  },
  {
   "cell_type": "markdown",
   "id": "d6701b2b",
   "metadata": {},
   "source": [
    "### Basic Checks and Statistical Analysis"
   ]
  },
  {
   "cell_type": "code",
   "execution_count": 41,
   "id": "31d1ffde",
   "metadata": {},
   "outputs": [
    {
     "data": {
      "text/html": [
       "<div>\n",
       "<style scoped>\n",
       "    .dataframe tbody tr th:only-of-type {\n",
       "        vertical-align: middle;\n",
       "    }\n",
       "\n",
       "    .dataframe tbody tr th {\n",
       "        vertical-align: top;\n",
       "    }\n",
       "\n",
       "    .dataframe thead th {\n",
       "        text-align: right;\n",
       "    }\n",
       "</style>\n",
       "<table border=\"1\" class=\"dataframe\">\n",
       "  <thead>\n",
       "    <tr style=\"text-align: right;\">\n",
       "      <th></th>\n",
       "      <th>Airline</th>\n",
       "      <th>Date_of_Journey</th>\n",
       "      <th>Source</th>\n",
       "      <th>Destination</th>\n",
       "      <th>Route</th>\n",
       "      <th>Dep_Time</th>\n",
       "      <th>Arrival_Time</th>\n",
       "      <th>Duration</th>\n",
       "      <th>Total_Stops</th>\n",
       "      <th>Additional_Info</th>\n",
       "      <th>Price</th>\n",
       "    </tr>\n",
       "  </thead>\n",
       "  <tbody>\n",
       "    <tr>\n",
       "      <th>0</th>\n",
       "      <td>IndiGo</td>\n",
       "      <td>24/03/2019</td>\n",
       "      <td>Banglore</td>\n",
       "      <td>New Delhi</td>\n",
       "      <td>BLR → DEL</td>\n",
       "      <td>22:20</td>\n",
       "      <td>01:10 22 Mar</td>\n",
       "      <td>2h 50m</td>\n",
       "      <td>non-stop</td>\n",
       "      <td>No info</td>\n",
       "      <td>3897</td>\n",
       "    </tr>\n",
       "    <tr>\n",
       "      <th>1</th>\n",
       "      <td>Air India</td>\n",
       "      <td>1/05/2019</td>\n",
       "      <td>Kolkata</td>\n",
       "      <td>Banglore</td>\n",
       "      <td>CCU → IXR → BBI → BLR</td>\n",
       "      <td>05:50</td>\n",
       "      <td>13:15</td>\n",
       "      <td>7h 25m</td>\n",
       "      <td>2 stops</td>\n",
       "      <td>No info</td>\n",
       "      <td>7662</td>\n",
       "    </tr>\n",
       "    <tr>\n",
       "      <th>2</th>\n",
       "      <td>Jet Airways</td>\n",
       "      <td>9/06/2019</td>\n",
       "      <td>Delhi</td>\n",
       "      <td>Cochin</td>\n",
       "      <td>DEL → LKO → BOM → COK</td>\n",
       "      <td>09:25</td>\n",
       "      <td>04:25 10 Jun</td>\n",
       "      <td>19h</td>\n",
       "      <td>2 stops</td>\n",
       "      <td>No info</td>\n",
       "      <td>13882</td>\n",
       "    </tr>\n",
       "    <tr>\n",
       "      <th>3</th>\n",
       "      <td>IndiGo</td>\n",
       "      <td>12/05/2019</td>\n",
       "      <td>Kolkata</td>\n",
       "      <td>Banglore</td>\n",
       "      <td>CCU → NAG → BLR</td>\n",
       "      <td>18:05</td>\n",
       "      <td>23:30</td>\n",
       "      <td>5h 25m</td>\n",
       "      <td>1 stop</td>\n",
       "      <td>No info</td>\n",
       "      <td>6218</td>\n",
       "    </tr>\n",
       "    <tr>\n",
       "      <th>4</th>\n",
       "      <td>IndiGo</td>\n",
       "      <td>01/03/2019</td>\n",
       "      <td>Banglore</td>\n",
       "      <td>New Delhi</td>\n",
       "      <td>BLR → NAG → DEL</td>\n",
       "      <td>16:50</td>\n",
       "      <td>21:35</td>\n",
       "      <td>4h 45m</td>\n",
       "      <td>1 stop</td>\n",
       "      <td>No info</td>\n",
       "      <td>13302</td>\n",
       "    </tr>\n",
       "    <tr>\n",
       "      <th>...</th>\n",
       "      <td>...</td>\n",
       "      <td>...</td>\n",
       "      <td>...</td>\n",
       "      <td>...</td>\n",
       "      <td>...</td>\n",
       "      <td>...</td>\n",
       "      <td>...</td>\n",
       "      <td>...</td>\n",
       "      <td>...</td>\n",
       "      <td>...</td>\n",
       "      <td>...</td>\n",
       "    </tr>\n",
       "    <tr>\n",
       "      <th>10678</th>\n",
       "      <td>Air Asia</td>\n",
       "      <td>9/04/2019</td>\n",
       "      <td>Kolkata</td>\n",
       "      <td>Banglore</td>\n",
       "      <td>CCU → BLR</td>\n",
       "      <td>19:55</td>\n",
       "      <td>22:25</td>\n",
       "      <td>2h 30m</td>\n",
       "      <td>non-stop</td>\n",
       "      <td>No info</td>\n",
       "      <td>4107</td>\n",
       "    </tr>\n",
       "    <tr>\n",
       "      <th>10679</th>\n",
       "      <td>Air India</td>\n",
       "      <td>27/04/2019</td>\n",
       "      <td>Kolkata</td>\n",
       "      <td>Banglore</td>\n",
       "      <td>CCU → BLR</td>\n",
       "      <td>20:45</td>\n",
       "      <td>23:20</td>\n",
       "      <td>2h 35m</td>\n",
       "      <td>non-stop</td>\n",
       "      <td>No info</td>\n",
       "      <td>4145</td>\n",
       "    </tr>\n",
       "    <tr>\n",
       "      <th>10680</th>\n",
       "      <td>Jet Airways</td>\n",
       "      <td>27/04/2019</td>\n",
       "      <td>Banglore</td>\n",
       "      <td>Delhi</td>\n",
       "      <td>BLR → DEL</td>\n",
       "      <td>08:20</td>\n",
       "      <td>11:20</td>\n",
       "      <td>3h</td>\n",
       "      <td>non-stop</td>\n",
       "      <td>No info</td>\n",
       "      <td>7229</td>\n",
       "    </tr>\n",
       "    <tr>\n",
       "      <th>10681</th>\n",
       "      <td>Vistara</td>\n",
       "      <td>01/03/2019</td>\n",
       "      <td>Banglore</td>\n",
       "      <td>New Delhi</td>\n",
       "      <td>BLR → DEL</td>\n",
       "      <td>11:30</td>\n",
       "      <td>14:10</td>\n",
       "      <td>2h 40m</td>\n",
       "      <td>non-stop</td>\n",
       "      <td>No info</td>\n",
       "      <td>12648</td>\n",
       "    </tr>\n",
       "    <tr>\n",
       "      <th>10682</th>\n",
       "      <td>Air India</td>\n",
       "      <td>9/05/2019</td>\n",
       "      <td>Delhi</td>\n",
       "      <td>Cochin</td>\n",
       "      <td>DEL → GOI → BOM → COK</td>\n",
       "      <td>10:55</td>\n",
       "      <td>19:15</td>\n",
       "      <td>8h 20m</td>\n",
       "      <td>2 stops</td>\n",
       "      <td>No info</td>\n",
       "      <td>11753</td>\n",
       "    </tr>\n",
       "  </tbody>\n",
       "</table>\n",
       "<p>10683 rows × 11 columns</p>\n",
       "</div>"
      ],
      "text/plain": [
       "           Airline Date_of_Journey    Source Destination  \\\n",
       "0           IndiGo      24/03/2019  Banglore   New Delhi   \n",
       "1        Air India       1/05/2019   Kolkata    Banglore   \n",
       "2      Jet Airways       9/06/2019     Delhi      Cochin   \n",
       "3           IndiGo      12/05/2019   Kolkata    Banglore   \n",
       "4           IndiGo      01/03/2019  Banglore   New Delhi   \n",
       "...            ...             ...       ...         ...   \n",
       "10678     Air Asia       9/04/2019   Kolkata    Banglore   \n",
       "10679    Air India      27/04/2019   Kolkata    Banglore   \n",
       "10680  Jet Airways      27/04/2019  Banglore       Delhi   \n",
       "10681      Vistara      01/03/2019  Banglore   New Delhi   \n",
       "10682    Air India       9/05/2019     Delhi      Cochin   \n",
       "\n",
       "                       Route Dep_Time  Arrival_Time Duration Total_Stops  \\\n",
       "0                  BLR → DEL    22:20  01:10 22 Mar   2h 50m    non-stop   \n",
       "1      CCU → IXR → BBI → BLR    05:50         13:15   7h 25m     2 stops   \n",
       "2      DEL → LKO → BOM → COK    09:25  04:25 10 Jun      19h     2 stops   \n",
       "3            CCU → NAG → BLR    18:05         23:30   5h 25m      1 stop   \n",
       "4            BLR → NAG → DEL    16:50         21:35   4h 45m      1 stop   \n",
       "...                      ...      ...           ...      ...         ...   \n",
       "10678              CCU → BLR    19:55         22:25   2h 30m    non-stop   \n",
       "10679              CCU → BLR    20:45         23:20   2h 35m    non-stop   \n",
       "10680              BLR → DEL    08:20         11:20       3h    non-stop   \n",
       "10681              BLR → DEL    11:30         14:10   2h 40m    non-stop   \n",
       "10682  DEL → GOI → BOM → COK    10:55         19:15   8h 20m     2 stops   \n",
       "\n",
       "      Additional_Info  Price  \n",
       "0             No info   3897  \n",
       "1             No info   7662  \n",
       "2             No info  13882  \n",
       "3             No info   6218  \n",
       "4             No info  13302  \n",
       "...               ...    ...  \n",
       "10678         No info   4107  \n",
       "10679         No info   4145  \n",
       "10680         No info   7229  \n",
       "10681         No info  12648  \n",
       "10682         No info  11753  \n",
       "\n",
       "[10683 rows x 11 columns]"
      ]
     },
     "execution_count": 41,
     "metadata": {},
     "output_type": "execute_result"
    }
   ],
   "source": [
    "df"
   ]
  },
  {
   "cell_type": "code",
   "execution_count": 43,
   "id": "f13ba258",
   "metadata": {},
   "outputs": [
    {
     "data": {
      "text/plain": [
       "(10683, 11)"
      ]
     },
     "execution_count": 43,
     "metadata": {},
     "output_type": "execute_result"
    }
   ],
   "source": [
    "df.shape"
   ]
  },
  {
   "cell_type": "markdown",
   "id": "8aed98b8",
   "metadata": {},
   "source": [
    "**Observation:**\n",
    "- There are 11 features (columns) and 10683 records (rows) in the Flight Fare data set."
   ]
  },
  {
   "cell_type": "code",
   "execution_count": 46,
   "id": "508e688a",
   "metadata": {},
   "outputs": [
    {
     "name": "stdout",
     "output_type": "stream",
     "text": [
      "<class 'pandas.core.frame.DataFrame'>\n",
      "RangeIndex: 10683 entries, 0 to 10682\n",
      "Data columns (total 11 columns):\n",
      " #   Column           Non-Null Count  Dtype \n",
      "---  ------           --------------  ----- \n",
      " 0   Airline          10683 non-null  object\n",
      " 1   Date_of_Journey  10683 non-null  object\n",
      " 2   Source           10683 non-null  object\n",
      " 3   Destination      10683 non-null  object\n",
      " 4   Route            10682 non-null  object\n",
      " 5   Dep_Time         10683 non-null  object\n",
      " 6   Arrival_Time     10683 non-null  object\n",
      " 7   Duration         10683 non-null  object\n",
      " 8   Total_Stops      10682 non-null  object\n",
      " 9   Additional_Info  10683 non-null  object\n",
      " 10  Price            10683 non-null  int64 \n",
      "dtypes: int64(1), object(10)\n",
      "memory usage: 918.2+ KB\n"
     ]
    }
   ],
   "source": [
    "df.info()"
   ]
  },
  {
   "cell_type": "markdown",
   "id": "35ec93b4",
   "metadata": {},
   "source": [
    "**Observation:**\n",
    "- There are 10 features belonging to Object data type.\n",
    "- Only the Target variable 'Price' is Integer type.\n",
    "- There is only 1 missing record present in 'Route' column and 1 in 'Total_Stops' column."
   ]
  },
  {
   "cell_type": "code",
   "execution_count": 49,
   "id": "949fb3d3",
   "metadata": {},
   "outputs": [
    {
     "data": {
      "text/html": [
       "<div>\n",
       "<style scoped>\n",
       "    .dataframe tbody tr th:only-of-type {\n",
       "        vertical-align: middle;\n",
       "    }\n",
       "\n",
       "    .dataframe tbody tr th {\n",
       "        vertical-align: top;\n",
       "    }\n",
       "\n",
       "    .dataframe thead th {\n",
       "        text-align: right;\n",
       "    }\n",
       "</style>\n",
       "<table border=\"1\" class=\"dataframe\">\n",
       "  <thead>\n",
       "    <tr style=\"text-align: right;\">\n",
       "      <th></th>\n",
       "      <th>Price</th>\n",
       "    </tr>\n",
       "  </thead>\n",
       "  <tbody>\n",
       "    <tr>\n",
       "      <th>count</th>\n",
       "      <td>10683.000000</td>\n",
       "    </tr>\n",
       "    <tr>\n",
       "      <th>mean</th>\n",
       "      <td>9087.064121</td>\n",
       "    </tr>\n",
       "    <tr>\n",
       "      <th>std</th>\n",
       "      <td>4611.359167</td>\n",
       "    </tr>\n",
       "    <tr>\n",
       "      <th>min</th>\n",
       "      <td>1759.000000</td>\n",
       "    </tr>\n",
       "    <tr>\n",
       "      <th>25%</th>\n",
       "      <td>5277.000000</td>\n",
       "    </tr>\n",
       "    <tr>\n",
       "      <th>50%</th>\n",
       "      <td>8372.000000</td>\n",
       "    </tr>\n",
       "    <tr>\n",
       "      <th>75%</th>\n",
       "      <td>12373.000000</td>\n",
       "    </tr>\n",
       "    <tr>\n",
       "      <th>max</th>\n",
       "      <td>79512.000000</td>\n",
       "    </tr>\n",
       "  </tbody>\n",
       "</table>\n",
       "</div>"
      ],
      "text/plain": [
       "              Price\n",
       "count  10683.000000\n",
       "mean    9087.064121\n",
       "std     4611.359167\n",
       "min     1759.000000\n",
       "25%     5277.000000\n",
       "50%     8372.000000\n",
       "75%    12373.000000\n",
       "max    79512.000000"
      ]
     },
     "execution_count": 49,
     "metadata": {},
     "output_type": "execute_result"
    }
   ],
   "source": [
    "# Statistical Analysis for Numerical Data\n",
    "df.describe() "
   ]
  },
  {
   "cell_type": "markdown",
   "id": "a991ff99",
   "metadata": {},
   "source": [
    "**Observation:**\n",
    "- No Constant data\n",
    "- No Corrupt data"
   ]
  },
  {
   "cell_type": "code",
   "execution_count": 52,
   "id": "730ca72e",
   "metadata": {},
   "outputs": [
    {
     "data": {
      "text/html": [
       "<div>\n",
       "<style scoped>\n",
       "    .dataframe tbody tr th:only-of-type {\n",
       "        vertical-align: middle;\n",
       "    }\n",
       "\n",
       "    .dataframe tbody tr th {\n",
       "        vertical-align: top;\n",
       "    }\n",
       "\n",
       "    .dataframe thead th {\n",
       "        text-align: right;\n",
       "    }\n",
       "</style>\n",
       "<table border=\"1\" class=\"dataframe\">\n",
       "  <thead>\n",
       "    <tr style=\"text-align: right;\">\n",
       "      <th></th>\n",
       "      <th>Airline</th>\n",
       "      <th>Date_of_Journey</th>\n",
       "      <th>Source</th>\n",
       "      <th>Destination</th>\n",
       "      <th>Route</th>\n",
       "      <th>Dep_Time</th>\n",
       "      <th>Arrival_Time</th>\n",
       "      <th>Duration</th>\n",
       "      <th>Total_Stops</th>\n",
       "      <th>Additional_Info</th>\n",
       "    </tr>\n",
       "  </thead>\n",
       "  <tbody>\n",
       "    <tr>\n",
       "      <th>count</th>\n",
       "      <td>10683</td>\n",
       "      <td>10683</td>\n",
       "      <td>10683</td>\n",
       "      <td>10683</td>\n",
       "      <td>10682</td>\n",
       "      <td>10683</td>\n",
       "      <td>10683</td>\n",
       "      <td>10683</td>\n",
       "      <td>10682</td>\n",
       "      <td>10683</td>\n",
       "    </tr>\n",
       "    <tr>\n",
       "      <th>unique</th>\n",
       "      <td>12</td>\n",
       "      <td>44</td>\n",
       "      <td>5</td>\n",
       "      <td>6</td>\n",
       "      <td>128</td>\n",
       "      <td>222</td>\n",
       "      <td>1343</td>\n",
       "      <td>368</td>\n",
       "      <td>5</td>\n",
       "      <td>10</td>\n",
       "    </tr>\n",
       "    <tr>\n",
       "      <th>top</th>\n",
       "      <td>Jet Airways</td>\n",
       "      <td>18/05/2019</td>\n",
       "      <td>Delhi</td>\n",
       "      <td>Cochin</td>\n",
       "      <td>DEL → BOM → COK</td>\n",
       "      <td>18:55</td>\n",
       "      <td>19:00</td>\n",
       "      <td>2h 50m</td>\n",
       "      <td>1 stop</td>\n",
       "      <td>No info</td>\n",
       "    </tr>\n",
       "    <tr>\n",
       "      <th>freq</th>\n",
       "      <td>3849</td>\n",
       "      <td>504</td>\n",
       "      <td>4537</td>\n",
       "      <td>4537</td>\n",
       "      <td>2376</td>\n",
       "      <td>233</td>\n",
       "      <td>423</td>\n",
       "      <td>550</td>\n",
       "      <td>5625</td>\n",
       "      <td>8345</td>\n",
       "    </tr>\n",
       "  </tbody>\n",
       "</table>\n",
       "</div>"
      ],
      "text/plain": [
       "            Airline Date_of_Journey Source Destination            Route  \\\n",
       "count         10683           10683  10683       10683            10682   \n",
       "unique           12              44      5           6              128   \n",
       "top     Jet Airways      18/05/2019  Delhi      Cochin  DEL → BOM → COK   \n",
       "freq           3849             504   4537        4537             2376   \n",
       "\n",
       "       Dep_Time Arrival_Time Duration Total_Stops Additional_Info  \n",
       "count     10683        10683    10683       10682           10683  \n",
       "unique      222         1343      368           5              10  \n",
       "top       18:55        19:00   2h 50m      1 stop         No info  \n",
       "freq        233          423      550        5625            8345  "
      ]
     },
     "execution_count": 52,
     "metadata": {},
     "output_type": "execute_result"
    }
   ],
   "source": [
    "# Statistical Analysis for Categorical Data\n",
    "\n",
    "df.describe(include = 'O')"
   ]
  },
  {
   "cell_type": "markdown",
   "id": "ec07485b",
   "metadata": {},
   "source": [
    "**Observation:**\n",
    "- No Constant data"
   ]
  },
  {
   "cell_type": "markdown",
   "id": "6b3e73a7",
   "metadata": {},
   "source": [
    "### Exploratory Data Analysis "
   ]
  },
  {
   "cell_type": "markdown",
   "id": "361428f0",
   "metadata": {},
   "source": [
    "#### Univariate Analysis - Sweetviz Report"
   ]
  },
  {
   "cell_type": "code",
   "execution_count": 9,
   "id": "36fb8a6b",
   "metadata": {},
   "outputs": [
    {
     "name": "stdout",
     "output_type": "stream",
     "text": [
      "Requirement already satisfied: sweetviz in c:\\anaconda3\\lib\\site-packages (2.3.1)\n",
      "Requirement already satisfied: pandas!=1.0.0,!=1.0.1,!=1.0.2,>=0.25.3 in c:\\anaconda3\\lib\\site-packages (from sweetviz) (1.4.2)\n",
      "Requirement already satisfied: numpy>=1.16.0 in c:\\anaconda3\\lib\\site-packages (from sweetviz) (1.22.4)\n",
      "Requirement already satisfied: matplotlib>=3.1.3 in c:\\anaconda3\\lib\\site-packages (from sweetviz) (3.8.2)\n",
      "Requirement already satisfied: tqdm>=4.43.0 in c:\\anaconda3\\lib\\site-packages (from sweetviz) (4.64.0)\n",
      "Requirement already satisfied: scipy>=1.3.2 in c:\\anaconda3\\lib\\site-packages (from sweetviz) (1.7.3)\n",
      "Requirement already satisfied: jinja2>=2.11.1 in c:\\anaconda3\\lib\\site-packages (from sweetviz) (2.11.3)\n",
      "Requirement already satisfied: importlib-resources>=1.2.0 in c:\\anaconda3\\lib\\site-packages (from sweetviz) (6.1.0)\n",
      "Requirement already satisfied: zipp>=3.1.0 in c:\\anaconda3\\lib\\site-packages (from importlib-resources>=1.2.0->sweetviz) (3.7.0)\n",
      "Requirement already satisfied: MarkupSafe>=0.23 in c:\\anaconda3\\lib\\site-packages (from jinja2>=2.11.1->sweetviz) (2.0.1)\n",
      "Requirement already satisfied: contourpy>=1.0.1 in c:\\anaconda3\\lib\\site-packages (from matplotlib>=3.1.3->sweetviz) (1.1.1)\n"
     ]
    },
    {
     "name": "stderr",
     "output_type": "stream",
     "text": [
      "\n",
      "[notice] A new release of pip is available: 24.2 -> 24.3.1\n",
      "[notice] To update, run: python.exe -m pip install --upgrade pip\n"
     ]
    },
    {
     "name": "stdout",
     "output_type": "stream",
     "text": [
      "Requirement already satisfied: cycler>=0.10 in c:\\anaconda3\\lib\\site-packages (from matplotlib>=3.1.3->sweetviz) (0.11.0)\n",
      "Requirement already satisfied: fonttools>=4.22.0 in c:\\anaconda3\\lib\\site-packages (from matplotlib>=3.1.3->sweetviz) (4.53.1)\n",
      "Requirement already satisfied: kiwisolver>=1.3.1 in c:\\anaconda3\\lib\\site-packages (from matplotlib>=3.1.3->sweetviz) (1.3.2)\n",
      "Requirement already satisfied: packaging>=20.0 in c:\\anaconda3\\lib\\site-packages (from matplotlib>=3.1.3->sweetviz) (21.3)\n",
      "Requirement already satisfied: pillow>=8 in c:\\anaconda3\\lib\\site-packages (from matplotlib>=3.1.3->sweetviz) (9.0.1)\n",
      "Requirement already satisfied: pyparsing>=2.3.1 in c:\\anaconda3\\lib\\site-packages (from matplotlib>=3.1.3->sweetviz) (3.0.4)\n",
      "Requirement already satisfied: python-dateutil>=2.7 in c:\\anaconda3\\lib\\site-packages (from matplotlib>=3.1.3->sweetviz) (2.8.2)\n",
      "Requirement already satisfied: pytz>=2020.1 in c:\\anaconda3\\lib\\site-packages (from pandas!=1.0.0,!=1.0.1,!=1.0.2,>=0.25.3->sweetviz) (2021.3)\n",
      "Requirement already satisfied: colorama in c:\\anaconda3\\lib\\site-packages (from tqdm>=4.43.0->sweetviz) (0.4.4)\n",
      "Requirement already satisfied: six>=1.5 in c:\\anaconda3\\lib\\site-packages (from python-dateutil>=2.7->matplotlib>=3.1.3->sweetviz) (1.16.0)\n"
     ]
    }
   ],
   "source": [
    "# Installation\n",
    "\n",
    "!pip install sweetviz"
   ]
  },
  {
   "cell_type": "code",
   "execution_count": 57,
   "id": "6dfe0a18",
   "metadata": {},
   "outputs": [
    {
     "data": {
      "application/vnd.jupyter.widget-view+json": {
       "model_id": "bc6c046cb4f94814aa7773eecc12972d",
       "version_major": 2,
       "version_minor": 0
      },
      "text/plain": [
       "                                             |                                             | [  0%]   00:00 ->…"
      ]
     },
     "metadata": {},
     "output_type": "display_data"
    },
    {
     "name": "stdout",
     "output_type": "stream",
     "text": [
      "Report SWEETVIZ_REPORT.html was generated! NOTEBOOK/COLAB USERS: the web browser MAY not pop up, regardless, the report IS saved in your notebook/colab files.\n"
     ]
    }
   ],
   "source": [
    "#univariate analysis\n",
    "import sweetviz as sv\n",
    "report = sv.analyze(df)\n",
    "report.show_html()"
   ]
  },
  {
   "cell_type": "markdown",
   "id": "43fc7aef",
   "metadata": {},
   "source": [
    "##### File Path: file:///C:/Users/ankit/Capstone%20Projects/PRCP-1025-FlightPricePrediction/SWEETVIZ_REPORT.html"
   ]
  },
  {
   "cell_type": "markdown",
   "id": "0f8ed810",
   "metadata": {},
   "source": [
    "### Count plot "
   ]
  },
  {
   "cell_type": "markdown",
   "id": "49557dc3",
   "metadata": {},
   "source": [
    "#### MOST PREFERRED AIRLINE"
   ]
  },
  {
   "cell_type": "code",
   "execution_count": 61,
   "id": "14c1d9d1",
   "metadata": {},
   "outputs": [
    {
     "data": {
      "image/png": "[encoded data removed]",
      "text/plain": [
       "<Figure size 640x480 with 1 Axes>"
      ]
     },
     "metadata": {},
     "output_type": "display_data"
    }
   ],
   "source": [
    "sns.countplot(x = 'Airline', data = df)\n",
    "\n",
    "plt.title('Most Preferred Airlines', fontsize = 12, color = 'black')\n",
    "plt.xlabel('Airlines', fontsize = 10)\n",
    "plt.ylabel('Count', fontsize = 10)\n",
    "plt.xticks(rotation = 90)\n",
    "\n",
    "plt.show()"
   ]
  },
  {
   "cell_type": "markdown",
   "id": "12ad1d44",
   "metadata": {},
   "source": [
    "**Observation:**\n",
    "- Jet Airways is the most preferred airline with approximately 3800 counts.\n",
    "- Second most preferred Airline is Indigo with nearly 2100 counts.\n",
    "- Jet Airways Business, Vistara Premium Economy, Multiple Carriers Premium economy and Trujet are the least preferred airlines."
   ]
  },
  {
   "cell_type": "markdown",
   "id": "ed1ac835",
   "metadata": {},
   "source": [
    "#### MOST PREFERRED SOURCE"
   ]
  },
  {
   "cell_type": "code",
   "execution_count": 65,
   "id": "0d0d2d23",
   "metadata": {},
   "outputs": [
    {
     "data": {
      "image/png": "[encoded data removed]",
      "text/plain": [
       "<Figure size 640x480 with 1 Axes>"
      ]
     },
     "metadata": {},
     "output_type": "display_data"
    }
   ],
   "source": [
    "sns.countplot(x = 'Source', data = df)\n",
    "\n",
    "plt.title('Most Preferred Source', fontsize = 12, color = 'black')\n",
    "plt.xlabel('City', fontsize = 10)\n",
    "plt.ylabel('Count', fontsize = 10)\n",
    "plt.xticks(rotation = 90)\n",
    "\n",
    "plt.show()"
   ]
  },
  {
   "cell_type": "markdown",
   "id": "3bea8779",
   "metadata": {},
   "source": [
    "**Observation:**\n",
    "- From the Plot, it can be seen that the Most desired Source (Departure station), is Delhi with a count of almost 4500 passengers. \n",
    "- And the least preferred Source station is Chennai with a count of nearly 300 passengers."
   ]
  },
  {
   "cell_type": "markdown",
   "id": "51245555",
   "metadata": {},
   "source": [
    "#### MOST Preferred Destination"
   ]
  },
  {
   "cell_type": "code",
   "execution_count": 69,
   "id": "083cb101",
   "metadata": {},
   "outputs": [
    {
     "data": {
      "image/png": "[encoded data removed]",
      "text/plain": [
       "<Figure size 640x480 with 1 Axes>"
      ]
     },
     "metadata": {},
     "output_type": "display_data"
    }
   ],
   "source": [
    "sns.countplot(x = 'Destination', data = df)\n",
    "\n",
    "plt.title('Most Preferred Destination', fontsize = 12, color = 'black')\n",
    "plt.xlabel('City', fontsize = 10)\n",
    "plt.ylabel('Count', fontsize = 10)\n",
    "plt.xticks(rotation = 90)\n",
    "\n",
    "plt.show()"
   ]
  },
  {
   "cell_type": "markdown",
   "id": "99c0a1ce",
   "metadata": {},
   "source": [
    "**Observation:**\n",
    "- From the plot it can be inferred that the Most Preferred Destination is Cochin city with a count of almost 4500 passengers. \n",
    "- And Kolkata is the least preferred city among all with nearly 400 passengers."
   ]
  },
  {
   "cell_type": "markdown",
   "id": "7c22c0fc",
   "metadata": {},
   "source": [
    "#### TOP 10 MOST PREFERRED ROUTE FOR TRAVEL"
   ]
  },
  {
   "cell_type": "code",
   "execution_count": 73,
   "id": "6e9e9167",
   "metadata": {},
   "outputs": [
    {
     "data": {
      "image/png": "[encoded data removed]",
      "text/plain": [
       "<Figure size 640x480 with 1 Axes>"
      ]
     },
     "metadata": {},
     "output_type": "display_data"
    }
   ],
   "source": [
    "sns.countplot(x = 'Route', data = df, order = df['Route'].value_counts().index, ec = 'black')\n",
    "\n",
    "plt.title('Top 10 Most Preferred Route', fontsize = 12, color = 'black')\n",
    "plt.xlabel('Route', fontsize = 10)\n",
    "plt.ylabel('Count', fontsize = 10)\n",
    "plt.xticks(rotation = 90)\n",
    "plt.xlim(-1, 10)\n",
    "\n",
    "plt.show()"
   ]
  },
  {
   "cell_type": "markdown",
   "id": "fcf3af77",
   "metadata": {},
   "source": [
    "**Observation:**\n",
    "- Most Preferred Route is DEL → BOM → COK with a count of nearly 3000 followed by BLR → DEL"
   ]
  },
  {
   "cell_type": "markdown",
   "id": "fd0b88f7",
   "metadata": {},
   "source": [
    "#### MOST NUMBER OF TOTAL_STOPS PREFERRED"
   ]
  },
  {
   "cell_type": "code",
   "execution_count": 77,
   "id": "e2a17f19",
   "metadata": {},
   "outputs": [
    {
     "data": {
      "image/png": "[encoded data removed]",
      "text/plain": [
       "<Figure size 640x480 with 1 Axes>"
      ]
     },
     "metadata": {},
     "output_type": "display_data"
    }
   ],
   "source": [
    "sns.countplot(x = 'Total_Stops', data = df)\n",
    "\n",
    "plt.title('Most Total_Stops Preferred Route', fontsize = 12, color = 'black')\n",
    "plt.xlabel('Total Stops', fontsize = 10)\n",
    "plt.ylabel('Count', fontsize = 10)\n",
    "plt.xticks(rotation = 90)\n",
    "\n",
    "plt.show()"
   ]
  },
  {
   "cell_type": "markdown",
   "id": "3a21063c",
   "metadata": {},
   "source": [
    "**Observation:**\n",
    "- From the plot, we can see that passengers preferred airlines route with 1 stop most with a count of almost 5800, followed by non-stop airline route.\n",
    "- Passengers avoid 3 stops or 4 stops airline route."
   ]
  },
  {
   "cell_type": "markdown",
   "id": "b8b9d41d",
   "metadata": {},
   "source": [
    "#### MOST TRAVELLED DATE"
   ]
  },
  {
   "cell_type": "code",
   "execution_count": 81,
   "id": "d6363cb2",
   "metadata": {
    "scrolled": true
   },
   "outputs": [
    {
     "data": {
      "image/png": "[encoded data removed]",
      "text/plain": [
       "<Figure size 1500x1000 with 1 Axes>"
      ]
     },
     "metadata": {},
     "output_type": "display_data"
    }
   ],
   "source": [
    "plt.figure(figsize = (15, 10))\n",
    "\n",
    "# Create a countplot to visualize the frequency of flights on different dates\n",
    "sns.countplot(x = 'Date_of_Journey', data = df, order = df['Date_of_Journey'].value_counts().index)\n",
    "\n",
    "# Set x-axis and y-axis labels\n",
    "plt.xlabel('Date_of_Journey', fontsize = 10)\n",
    "plt.ylabel('Count', fontsize = 10)\n",
    "\n",
    "# Rotate x-axis labels for better readability\n",
    "plt.xticks(rotation = 90)\n",
    "\n",
    "# Show the plot\n",
    "plt.gca().invert_xaxis()  # Invert the x-axis to display dates in descending order\n",
    "\n",
    "# Limit the number of displayed dates on the x-axis if needed\n",
    "plt.xlim(-1, 45)\n",
    "\n",
    "# Show the plot\n",
    "plt.show()"
   ]
  },
  {
   "cell_type": "markdown",
   "id": "46d22da9",
   "metadata": {
    "id": "46d22da9"
   },
   "source": [
    "**Observation:**\n",
    "- The number of passengers are highter on 18-05-2019 followed by 06-06-2019.\n",
    "- The least number of passengers travelled was on 01-03-2019."
   ]
  },
  {
   "cell_type": "markdown",
   "id": "a453fd87",
   "metadata": {},
   "source": [
    "#### Bivariate Analysis"
   ]
  },
  {
   "cell_type": "markdown",
   "id": "8ba2ab3d",
   "metadata": {},
   "source": [
    "#### PRICE VARIATIONS BETWEEN AIRLINES"
   ]
  },
  {
   "cell_type": "code",
   "execution_count": 86,
   "id": "4a73456c",
   "metadata": {
    "scrolled": true
   },
   "outputs": [
    {
     "data": {
      "image/png": "[encoded data removed]",
      "text/plain": [
       "<Figure size 640x480 with 1 Axes>"
      ]
     },
     "metadata": {},
     "output_type": "display_data"
    }
   ],
   "source": [
    "sns.barplot(x = 'Airline', y = 'Price', data = df)\n",
    "\n",
    "plt.title('Price Variations Among Different Airlines', fontsize = 12, color = 'black')\n",
    "plt.xlabel('Airlines', fontsize = 10)\n",
    "plt.ylabel('Price', fontsize = 10)\n",
    "plt.xticks(rotation = 90)\n",
    "\n",
    "plt.show()"
   ]
  },
  {
   "cell_type": "markdown",
   "id": "3884c222",
   "metadata": {},
   "source": [
    "**Observation:**\n",
    "- Based on the plot, we can see that Jet Airways Business is the most expensive of all. Also, it is the least popular airline, as we observed in Airline Count Plot. This may be because of high price of the ticket.\n",
    "- Jet Airways is the 2nd most expensive.\n",
    "- Trujet is the least expensive airline."
   ]
  },
  {
   "cell_type": "markdown",
   "id": "fa050aa0",
   "metadata": {},
   "source": [
    "#### RELATION BETWEEN PRICE AND TOTAL NUMBER OF STOPS"
   ]
  },
  {
   "cell_type": "code",
   "execution_count": 90,
   "id": "298944fb",
   "metadata": {},
   "outputs": [
    {
     "data": {
      "image/png": "[encoded data removed]",
      "text/plain": [
       "<Figure size 640x480 with 1 Axes>"
      ]
     },
     "metadata": {},
     "output_type": "display_data"
    }
   ],
   "source": [
    "sns.barplot(x ='Total_Stops', y = 'Price', data = df)\n",
    "\n",
    "plt.title('Relation Between Price and Total_Stops', fontsize = 12, color = 'black')\n",
    "plt.xlabel('Total_Stops', fontsize = 10)\n",
    "plt.ylabel('Price', fontsize = 10)\n",
    "plt.xticks(rotation = 90)\n",
    "\n",
    "plt.show()"
   ]
  },
  {
   "cell_type": "markdown",
   "id": "1d2bdfd9",
   "metadata": {},
   "source": [
    "**Observation:**\n",
    "- The Price of Airline tickets with most number of stops are highest with rate nearly 17500.\n",
    "- The least price is for the Airlines with no stops."
   ]
  },
  {
   "cell_type": "markdown",
   "id": "5e8427de",
   "metadata": {},
   "source": [
    "#### RELATION BETWEEN PRICE OF TICKETS AND THE SOURCE CITY"
   ]
  },
  {
   "cell_type": "code",
   "execution_count": 94,
   "id": "dc6c246f",
   "metadata": {},
   "outputs": [
    {
     "data": {
      "image/png": "[encoded data removed]",
      "text/plain": [
       "<Figure size 640x480 with 1 Axes>"
      ]
     },
     "metadata": {},
     "output_type": "display_data"
    }
   ],
   "source": [
    "sns.barplot(x = 'Source', y = 'Price', data = df)\n",
    "\n",
    "plt.title('Relation Between Price and Source City', fontsize = 12, color = 'black')\n",
    "plt.xlabel('Source City', fontsize = 10)\n",
    "plt.ylabel('Price', fontsize = 10)\n",
    "plt.xticks(rotation = 90)\n",
    "\n",
    "plt.show()"
   ]
  },
  {
   "cell_type": "markdown",
   "id": "d380f65a",
   "metadata": {},
   "source": [
    "**Observation:**\n",
    "- The Price of Airline tickets is highest if the flight start from Delhi. Price of tickets is as high as 11000.\n",
    "- The least price of ticket is from Chennai as source city. Price is as low as 4500. "
   ]
  },
  {
   "cell_type": "markdown",
   "id": "136e772c",
   "metadata": {},
   "source": [
    "#### RELATION BETWEEN PRICE OF TICKETS AND THE DESTINATION CITY"
   ]
  },
  {
   "cell_type": "code",
   "execution_count": 98,
   "id": "9e40f81e",
   "metadata": {},
   "outputs": [
    {
     "data": {
      "image/png": "[encoded data removed]",
      "text/plain": [
       "<Figure size 640x480 with 1 Axes>"
      ]
     },
     "metadata": {},
     "output_type": "display_data"
    }
   ],
   "source": [
    "sns.barplot(x = 'Destination', y = 'Price', data = df)\n",
    "\n",
    "plt.title('Relation Between Price and Destination City', fontsize = 12, color = 'black')\n",
    "plt.xlabel('Destination City', fontsize = 10)\n",
    "plt.ylabel('Price', fontsize = 10)\n",
    "plt.xticks(rotation = 90)\n",
    "\n",
    "plt.show()"
   ]
  },
  {
   "cell_type": "markdown",
   "id": "8b760ee5",
   "metadata": {},
   "source": [
    "**Observation:**\n",
    "- The Price of Airline tickets is highest if the flight destination is New Delhi. Price of tickets is as high as 12000.\n",
    "- The least price of ticket is to Kilkata as destination city. Price is as low as 5000. "
   ]
  },
  {
   "cell_type": "markdown",
   "id": "ede71407",
   "metadata": {},
   "source": [
    "#### RELATION BETWEEN PRICE OF TICKETS AND THE ADDITIONAL INFORMATION PROVIDED"
   ]
  },
  {
   "cell_type": "code",
   "execution_count": 102,
   "id": "7ea1965f",
   "metadata": {},
   "outputs": [
    {
     "data": {
      "text/plain": [
       "array(['no info', 'in-flight meal not included',\n",
       "       'no check-in baggage included', '1 short layover',\n",
       "       '1 long layover', 'change airports', 'business class',\n",
       "       'red-eye flight', '2 long layover'], dtype=object)"
      ]
     },
     "execution_count": 102,
     "metadata": {},
     "output_type": "execute_result"
    }
   ],
   "source": [
    "# Listing the Unique values\n",
    "\n",
    "df.Additional_Info = list(df.Additional_Info.str.lower())\n",
    "df.Additional_Info.unique() "
   ]
  },
  {
   "cell_type": "code",
   "execution_count": 104,
   "id": "8fce5754",
   "metadata": {},
   "outputs": [
    {
     "data": {
      "image/png": "[encoded data removed]",
      "text/plain": [
       "<Figure size 640x480 with 1 Axes>"
      ]
     },
     "metadata": {},
     "output_type": "display_data"
    }
   ],
   "source": [
    "sns.barplot(x = 'Additional_Info', y = 'Price', data = df)\n",
    "\n",
    "plt.title('Relation Between Price and Additional Information', fontsize = 12, color = 'black')\n",
    "plt.xlabel('Additional Information', fontsize = 10)\n",
    "plt.ylabel('Price', fontsize = 10)\n",
    "plt.xticks(rotation = 90)\n",
    "\n",
    "plt.show()"
   ]
  },
  {
   "cell_type": "markdown",
   "id": "65fb65ea",
   "metadata": {},
   "source": [
    "**Observation:**\n",
    "- The Price of Airline tickets is highest of Business Class category. This is followed by 1 Short Layover and 2 Short Layover.\n",
    "- the Price is least for No Check-in Baggage Included."
   ]
  },
  {
   "cell_type": "markdown",
   "id": "d41ffe4c",
   "metadata": {},
   "source": [
    "#### COMPARISON OF PRICES ON WEEKDAYS AND ON WEEKENDS"
   ]
  },
  {
   "cell_type": "code",
   "execution_count": 108,
   "id": "6c888fa7",
   "metadata": {},
   "outputs": [
    {
     "data": {
      "text/html": [
       "<div>\n",
       "<style scoped>\n",
       "    .dataframe tbody tr th:only-of-type {\n",
       "        vertical-align: middle;\n",
       "    }\n",
       "\n",
       "    .dataframe tbody tr th {\n",
       "        vertical-align: top;\n",
       "    }\n",
       "\n",
       "    .dataframe thead th {\n",
       "        text-align: right;\n",
       "    }\n",
       "</style>\n",
       "<table border=\"1\" class=\"dataframe\">\n",
       "  <thead>\n",
       "    <tr style=\"text-align: right;\">\n",
       "      <th></th>\n",
       "      <th>Airline</th>\n",
       "      <th>Date_of_Journey</th>\n",
       "      <th>Price</th>\n",
       "    </tr>\n",
       "  </thead>\n",
       "  <tbody>\n",
       "    <tr>\n",
       "      <th>0</th>\n",
       "      <td>IndiGo</td>\n",
       "      <td>24/03/2019</td>\n",
       "      <td>3897</td>\n",
       "    </tr>\n",
       "    <tr>\n",
       "      <th>1</th>\n",
       "      <td>Air India</td>\n",
       "      <td>1/05/2019</td>\n",
       "      <td>7662</td>\n",
       "    </tr>\n",
       "    <tr>\n",
       "      <th>2</th>\n",
       "      <td>Jet Airways</td>\n",
       "      <td>9/06/2019</td>\n",
       "      <td>13882</td>\n",
       "    </tr>\n",
       "    <tr>\n",
       "      <th>3</th>\n",
       "      <td>IndiGo</td>\n",
       "      <td>12/05/2019</td>\n",
       "      <td>6218</td>\n",
       "    </tr>\n",
       "    <tr>\n",
       "      <th>4</th>\n",
       "      <td>IndiGo</td>\n",
       "      <td>01/03/2019</td>\n",
       "      <td>13302</td>\n",
       "    </tr>\n",
       "    <tr>\n",
       "      <th>...</th>\n",
       "      <td>...</td>\n",
       "      <td>...</td>\n",
       "      <td>...</td>\n",
       "    </tr>\n",
       "    <tr>\n",
       "      <th>10678</th>\n",
       "      <td>Air Asia</td>\n",
       "      <td>9/04/2019</td>\n",
       "      <td>4107</td>\n",
       "    </tr>\n",
       "    <tr>\n",
       "      <th>10679</th>\n",
       "      <td>Air India</td>\n",
       "      <td>27/04/2019</td>\n",
       "      <td>4145</td>\n",
       "    </tr>\n",
       "    <tr>\n",
       "      <th>10680</th>\n",
       "      <td>Jet Airways</td>\n",
       "      <td>27/04/2019</td>\n",
       "      <td>7229</td>\n",
       "    </tr>\n",
       "    <tr>\n",
       "      <th>10681</th>\n",
       "      <td>Vistara</td>\n",
       "      <td>01/03/2019</td>\n",
       "      <td>12648</td>\n",
       "    </tr>\n",
       "    <tr>\n",
       "      <th>10682</th>\n",
       "      <td>Air India</td>\n",
       "      <td>9/05/2019</td>\n",
       "      <td>11753</td>\n",
       "    </tr>\n",
       "  </tbody>\n",
       "</table>\n",
       "<p>10683 rows × 3 columns</p>\n",
       "</div>"
      ],
      "text/plain": [
       "           Airline Date_of_Journey  Price\n",
       "0           IndiGo      24/03/2019   3897\n",
       "1        Air India       1/05/2019   7662\n",
       "2      Jet Airways       9/06/2019  13882\n",
       "3           IndiGo      12/05/2019   6218\n",
       "4           IndiGo      01/03/2019  13302\n",
       "...            ...             ...    ...\n",
       "10678     Air Asia       9/04/2019   4107\n",
       "10679    Air India      27/04/2019   4145\n",
       "10680  Jet Airways      27/04/2019   7229\n",
       "10681      Vistara      01/03/2019  12648\n",
       "10682    Air India       9/05/2019  11753\n",
       "\n",
       "[10683 rows x 3 columns]"
      ]
     },
     "execution_count": 108,
     "metadata": {},
     "output_type": "execute_result"
    }
   ],
   "source": [
    "days_df = df[['Airline', 'Date_of_Journey', 'Price']]\n",
    "days_df"
   ]
  },
  {
   "cell_type": "code",
   "execution_count": 110,
   "id": "055bfc65",
   "metadata": {},
   "outputs": [
    {
     "data": {
      "text/html": [
       "<div>\n",
       "<style scoped>\n",
       "    .dataframe tbody tr th:only-of-type {\n",
       "        vertical-align: middle;\n",
       "    }\n",
       "\n",
       "    .dataframe tbody tr th {\n",
       "        vertical-align: top;\n",
       "    }\n",
       "\n",
       "    .dataframe thead th {\n",
       "        text-align: right;\n",
       "    }\n",
       "</style>\n",
       "<table border=\"1\" class=\"dataframe\">\n",
       "  <thead>\n",
       "    <tr style=\"text-align: right;\">\n",
       "      <th></th>\n",
       "      <th>Airline</th>\n",
       "      <th>Date_of_Journey</th>\n",
       "      <th>Price</th>\n",
       "      <th>Weekday</th>\n",
       "      <th>Weekend</th>\n",
       "    </tr>\n",
       "  </thead>\n",
       "  <tbody>\n",
       "    <tr>\n",
       "      <th>0</th>\n",
       "      <td>IndiGo</td>\n",
       "      <td>2019-03-24</td>\n",
       "      <td>3897</td>\n",
       "      <td>Sunday</td>\n",
       "      <td>1</td>\n",
       "    </tr>\n",
       "    <tr>\n",
       "      <th>1</th>\n",
       "      <td>Air India</td>\n",
       "      <td>2019-05-01</td>\n",
       "      <td>7662</td>\n",
       "      <td>Wednesday</td>\n",
       "      <td>0</td>\n",
       "    </tr>\n",
       "    <tr>\n",
       "      <th>2</th>\n",
       "      <td>Jet Airways</td>\n",
       "      <td>2019-06-09</td>\n",
       "      <td>13882</td>\n",
       "      <td>Sunday</td>\n",
       "      <td>1</td>\n",
       "    </tr>\n",
       "    <tr>\n",
       "      <th>3</th>\n",
       "      <td>IndiGo</td>\n",
       "      <td>2019-05-12</td>\n",
       "      <td>6218</td>\n",
       "      <td>Sunday</td>\n",
       "      <td>1</td>\n",
       "    </tr>\n",
       "    <tr>\n",
       "      <th>4</th>\n",
       "      <td>IndiGo</td>\n",
       "      <td>2019-03-01</td>\n",
       "      <td>13302</td>\n",
       "      <td>Friday</td>\n",
       "      <td>0</td>\n",
       "    </tr>\n",
       "    <tr>\n",
       "      <th>...</th>\n",
       "      <td>...</td>\n",
       "      <td>...</td>\n",
       "      <td>...</td>\n",
       "      <td>...</td>\n",
       "      <td>...</td>\n",
       "    </tr>\n",
       "    <tr>\n",
       "      <th>10678</th>\n",
       "      <td>Air Asia</td>\n",
       "      <td>2019-04-09</td>\n",
       "      <td>4107</td>\n",
       "      <td>Tuesday</td>\n",
       "      <td>0</td>\n",
       "    </tr>\n",
       "    <tr>\n",
       "      <th>10679</th>\n",
       "      <td>Air India</td>\n",
       "      <td>2019-04-27</td>\n",
       "      <td>4145</td>\n",
       "      <td>Saturday</td>\n",
       "      <td>0</td>\n",
       "    </tr>\n",
       "    <tr>\n",
       "      <th>10680</th>\n",
       "      <td>Jet Airways</td>\n",
       "      <td>2019-04-27</td>\n",
       "      <td>7229</td>\n",
       "      <td>Saturday</td>\n",
       "      <td>0</td>\n",
       "    </tr>\n",
       "    <tr>\n",
       "      <th>10681</th>\n",
       "      <td>Vistara</td>\n",
       "      <td>2019-03-01</td>\n",
       "      <td>12648</td>\n",
       "      <td>Friday</td>\n",
       "      <td>0</td>\n",
       "    </tr>\n",
       "    <tr>\n",
       "      <th>10682</th>\n",
       "      <td>Air India</td>\n",
       "      <td>2019-05-09</td>\n",
       "      <td>11753</td>\n",
       "      <td>Thursday</td>\n",
       "      <td>0</td>\n",
       "    </tr>\n",
       "  </tbody>\n",
       "</table>\n",
       "<p>10683 rows × 5 columns</p>\n",
       "</div>"
      ],
      "text/plain": [
       "           Airline Date_of_Journey  Price    Weekday  Weekend\n",
       "0           IndiGo      2019-03-24   3897     Sunday        1\n",
       "1        Air India      2019-05-01   7662  Wednesday        0\n",
       "2      Jet Airways      2019-06-09  13882     Sunday        1\n",
       "3           IndiGo      2019-05-12   6218     Sunday        1\n",
       "4           IndiGo      2019-03-01  13302     Friday        0\n",
       "...            ...             ...    ...        ...      ...\n",
       "10678     Air Asia      2019-04-09   4107    Tuesday        0\n",
       "10679    Air India      2019-04-27   4145   Saturday        0\n",
       "10680  Jet Airways      2019-04-27   7229   Saturday        0\n",
       "10681      Vistara      2019-03-01  12648     Friday        0\n",
       "10682    Air India      2019-05-09  11753   Thursday        0\n",
       "\n",
       "[10683 rows x 5 columns]"
      ]
     },
     "execution_count": 110,
     "metadata": {},
     "output_type": "execute_result"
    }
   ],
   "source": [
    "days_df['Date_of_Journey'] = pd.to_datetime(days_df['Date_of_Journey'], format = '%d/%m/%Y')\n",
    "days_df['Weekday'] = days_df['Date_of_Journey'].dt.day_name()\n",
    "days_df['Weekend'] = days_df['Weekday'].apply(lambda day:1 if day == 'Sunday' else 0)\n",
    "days_df"
   ]
  },
  {
   "cell_type": "code",
   "execution_count": 112,
   "id": "78b579c0",
   "metadata": {},
   "outputs": [
    {
     "data": {
      "image/png": "[encoded data removed]",
      "text/plain": [
       "<Figure size 1500x1000 with 1 Axes>"
      ]
     },
     "metadata": {},
     "output_type": "display_data"
    }
   ],
   "source": [
    "# Creating a subplot with a suitable size\n",
    "\n",
    "plt.subplots(figsize = (15, 10))\n",
    "\n",
    "# Mapping the 'Weekend' column to colors (1 to 'blue' and 0 to 'orange')\n",
    "\n",
    "color_palette = {1: 'blue', 0: 'orange'}\n",
    "\n",
    "# Creating a barplot using Seaborn, mapping 'Weekend' to colors\n",
    "\n",
    "sns.barplot(x = 'Airline', data = days_df, y = 'Price', hue = 'Weekend', palette = color_palette)\n",
    "\n",
    "plt.title('Price on Weekdays Vs Price on Weekends', fontsize = 12, color = 'black')\n",
    "plt.xlabel('Airline', fontsize = 10)\n",
    "plt.ylabel('Price', fontsize = 10)\n",
    "plt.xticks(rotation=90)\n",
    "\n",
    "# Setting the y-axis limit\n",
    "\n",
    "plt.ylim(0, 80000)\n",
    "\n",
    "plt.show()"
   ]
  },
  {
   "cell_type": "markdown",
   "id": "76f1d7ef",
   "metadata": {},
   "source": [
    "**Observation:**\n",
    "- From the above plot, we can see that Jet Airways Business, Multiple Carriers Premium Economy, and Trujet Airlines have higher ticket prices during Weekdays than on Weekends.\n",
    "- Other Airlines have higher ticket rates on Weekends than on Weekdays.\n",
    "- Hence, it can be inferred that ticket prices for most of the Airlines are higher during Weekends than on the Weekdays."
   ]
  },
  {
   "cell_type": "markdown",
   "id": "a41baa29",
   "metadata": {},
   "source": [
    "### Data Preprocessing And Feature Engineering"
   ]
  },
  {
   "cell_type": "code",
   "execution_count": 116,
   "id": "77f5f867",
   "metadata": {},
   "outputs": [
    {
     "data": {
      "text/html": [
       "<div>\n",
       "<style scoped>\n",
       "    .dataframe tbody tr th:only-of-type {\n",
       "        vertical-align: middle;\n",
       "    }\n",
       "\n",
       "    .dataframe tbody tr th {\n",
       "        vertical-align: top;\n",
       "    }\n",
       "\n",
       "    .dataframe thead th {\n",
       "        text-align: right;\n",
       "    }\n",
       "</style>\n",
       "<table border=\"1\" class=\"dataframe\">\n",
       "  <thead>\n",
       "    <tr style=\"text-align: right;\">\n",
       "      <th></th>\n",
       "      <th>Airline</th>\n",
       "      <th>Date_of_Journey</th>\n",
       "      <th>Source</th>\n",
       "      <th>Destination</th>\n",
       "      <th>Route</th>\n",
       "      <th>Dep_Time</th>\n",
       "      <th>Arrival_Time</th>\n",
       "      <th>Duration</th>\n",
       "      <th>Total_Stops</th>\n",
       "      <th>Additional_Info</th>\n",
       "      <th>Price</th>\n",
       "    </tr>\n",
       "  </thead>\n",
       "  <tbody>\n",
       "    <tr>\n",
       "      <th>0</th>\n",
       "      <td>IndiGo</td>\n",
       "      <td>24/03/2019</td>\n",
       "      <td>Banglore</td>\n",
       "      <td>New Delhi</td>\n",
       "      <td>BLR → DEL</td>\n",
       "      <td>22:20</td>\n",
       "      <td>01:10 22 Mar</td>\n",
       "      <td>2h 50m</td>\n",
       "      <td>non-stop</td>\n",
       "      <td>no info</td>\n",
       "      <td>3897</td>\n",
       "    </tr>\n",
       "    <tr>\n",
       "      <th>1</th>\n",
       "      <td>Air India</td>\n",
       "      <td>1/05/2019</td>\n",
       "      <td>Kolkata</td>\n",
       "      <td>Banglore</td>\n",
       "      <td>CCU → IXR → BBI → BLR</td>\n",
       "      <td>05:50</td>\n",
       "      <td>13:15</td>\n",
       "      <td>7h 25m</td>\n",
       "      <td>2 stops</td>\n",
       "      <td>no info</td>\n",
       "      <td>7662</td>\n",
       "    </tr>\n",
       "    <tr>\n",
       "      <th>2</th>\n",
       "      <td>Jet Airways</td>\n",
       "      <td>9/06/2019</td>\n",
       "      <td>Delhi</td>\n",
       "      <td>Cochin</td>\n",
       "      <td>DEL → LKO → BOM → COK</td>\n",
       "      <td>09:25</td>\n",
       "      <td>04:25 10 Jun</td>\n",
       "      <td>19h</td>\n",
       "      <td>2 stops</td>\n",
       "      <td>no info</td>\n",
       "      <td>13882</td>\n",
       "    </tr>\n",
       "    <tr>\n",
       "      <th>3</th>\n",
       "      <td>IndiGo</td>\n",
       "      <td>12/05/2019</td>\n",
       "      <td>Kolkata</td>\n",
       "      <td>Banglore</td>\n",
       "      <td>CCU → NAG → BLR</td>\n",
       "      <td>18:05</td>\n",
       "      <td>23:30</td>\n",
       "      <td>5h 25m</td>\n",
       "      <td>1 stop</td>\n",
       "      <td>no info</td>\n",
       "      <td>6218</td>\n",
       "    </tr>\n",
       "    <tr>\n",
       "      <th>4</th>\n",
       "      <td>IndiGo</td>\n",
       "      <td>01/03/2019</td>\n",
       "      <td>Banglore</td>\n",
       "      <td>New Delhi</td>\n",
       "      <td>BLR → NAG → DEL</td>\n",
       "      <td>16:50</td>\n",
       "      <td>21:35</td>\n",
       "      <td>4h 45m</td>\n",
       "      <td>1 stop</td>\n",
       "      <td>no info</td>\n",
       "      <td>13302</td>\n",
       "    </tr>\n",
       "    <tr>\n",
       "      <th>...</th>\n",
       "      <td>...</td>\n",
       "      <td>...</td>\n",
       "      <td>...</td>\n",
       "      <td>...</td>\n",
       "      <td>...</td>\n",
       "      <td>...</td>\n",
       "      <td>...</td>\n",
       "      <td>...</td>\n",
       "      <td>...</td>\n",
       "      <td>...</td>\n",
       "      <td>...</td>\n",
       "    </tr>\n",
       "    <tr>\n",
       "      <th>10678</th>\n",
       "      <td>Air Asia</td>\n",
       "      <td>9/04/2019</td>\n",
       "      <td>Kolkata</td>\n",
       "      <td>Banglore</td>\n",
       "      <td>CCU → BLR</td>\n",
       "      <td>19:55</td>\n",
       "      <td>22:25</td>\n",
       "      <td>2h 30m</td>\n",
       "      <td>non-stop</td>\n",
       "      <td>no info</td>\n",
       "      <td>4107</td>\n",
       "    </tr>\n",
       "    <tr>\n",
       "      <th>10679</th>\n",
       "      <td>Air India</td>\n",
       "      <td>27/04/2019</td>\n",
       "      <td>Kolkata</td>\n",
       "      <td>Banglore</td>\n",
       "      <td>CCU → BLR</td>\n",
       "      <td>20:45</td>\n",
       "      <td>23:20</td>\n",
       "      <td>2h 35m</td>\n",
       "      <td>non-stop</td>\n",
       "      <td>no info</td>\n",
       "      <td>4145</td>\n",
       "    </tr>\n",
       "    <tr>\n",
       "      <th>10680</th>\n",
       "      <td>Jet Airways</td>\n",
       "      <td>27/04/2019</td>\n",
       "      <td>Banglore</td>\n",
       "      <td>Delhi</td>\n",
       "      <td>BLR → DEL</td>\n",
       "      <td>08:20</td>\n",
       "      <td>11:20</td>\n",
       "      <td>3h</td>\n",
       "      <td>non-stop</td>\n",
       "      <td>no info</td>\n",
       "      <td>7229</td>\n",
       "    </tr>\n",
       "    <tr>\n",
       "      <th>10681</th>\n",
       "      <td>Vistara</td>\n",
       "      <td>01/03/2019</td>\n",
       "      <td>Banglore</td>\n",
       "      <td>New Delhi</td>\n",
       "      <td>BLR → DEL</td>\n",
       "      <td>11:30</td>\n",
       "      <td>14:10</td>\n",
       "      <td>2h 40m</td>\n",
       "      <td>non-stop</td>\n",
       "      <td>no info</td>\n",
       "      <td>12648</td>\n",
       "    </tr>\n",
       "    <tr>\n",
       "      <th>10682</th>\n",
       "      <td>Air India</td>\n",
       "      <td>9/05/2019</td>\n",
       "      <td>Delhi</td>\n",
       "      <td>Cochin</td>\n",
       "      <td>DEL → GOI → BOM → COK</td>\n",
       "      <td>10:55</td>\n",
       "      <td>19:15</td>\n",
       "      <td>8h 20m</td>\n",
       "      <td>2 stops</td>\n",
       "      <td>no info</td>\n",
       "      <td>11753</td>\n",
       "    </tr>\n",
       "  </tbody>\n",
       "</table>\n",
       "<p>10683 rows × 11 columns</p>\n",
       "</div>"
      ],
      "text/plain": [
       "           Airline Date_of_Journey    Source Destination  \\\n",
       "0           IndiGo      24/03/2019  Banglore   New Delhi   \n",
       "1        Air India       1/05/2019   Kolkata    Banglore   \n",
       "2      Jet Airways       9/06/2019     Delhi      Cochin   \n",
       "3           IndiGo      12/05/2019   Kolkata    Banglore   \n",
       "4           IndiGo      01/03/2019  Banglore   New Delhi   \n",
       "...            ...             ...       ...         ...   \n",
       "10678     Air Asia       9/04/2019   Kolkata    Banglore   \n",
       "10679    Air India      27/04/2019   Kolkata    Banglore   \n",
       "10680  Jet Airways      27/04/2019  Banglore       Delhi   \n",
       "10681      Vistara      01/03/2019  Banglore   New Delhi   \n",
       "10682    Air India       9/05/2019     Delhi      Cochin   \n",
       "\n",
       "                       Route Dep_Time  Arrival_Time Duration Total_Stops  \\\n",
       "0                  BLR → DEL    22:20  01:10 22 Mar   2h 50m    non-stop   \n",
       "1      CCU → IXR → BBI → BLR    05:50         13:15   7h 25m     2 stops   \n",
       "2      DEL → LKO → BOM → COK    09:25  04:25 10 Jun      19h     2 stops   \n",
       "3            CCU → NAG → BLR    18:05         23:30   5h 25m      1 stop   \n",
       "4            BLR → NAG → DEL    16:50         21:35   4h 45m      1 stop   \n",
       "...                      ...      ...           ...      ...         ...   \n",
       "10678              CCU → BLR    19:55         22:25   2h 30m    non-stop   \n",
       "10679              CCU → BLR    20:45         23:20   2h 35m    non-stop   \n",
       "10680              BLR → DEL    08:20         11:20       3h    non-stop   \n",
       "10681              BLR → DEL    11:30         14:10   2h 40m    non-stop   \n",
       "10682  DEL → GOI → BOM → COK    10:55         19:15   8h 20m     2 stops   \n",
       "\n",
       "      Additional_Info  Price  \n",
       "0             no info   3897  \n",
       "1             no info   7662  \n",
       "2             no info  13882  \n",
       "3             no info   6218  \n",
       "4             no info  13302  \n",
       "...               ...    ...  \n",
       "10678         no info   4107  \n",
       "10679         no info   4145  \n",
       "10680         no info   7229  \n",
       "10681         no info  12648  \n",
       "10682         no info  11753  \n",
       "\n",
       "[10683 rows x 11 columns]"
      ]
     },
     "execution_count": 116,
     "metadata": {},
     "output_type": "execute_result"
    }
   ],
   "source": [
    "df"
   ]
  },
  {
   "cell_type": "markdown",
   "id": "ab052d8d",
   "metadata": {},
   "source": [
    "##### Checking for Missing Values"
   ]
  },
  {
   "cell_type": "code",
   "execution_count": 119,
   "id": "7f2c82fe",
   "metadata": {
    "scrolled": true
   },
   "outputs": [
    {
     "data": {
      "text/plain": [
       "Airline            0\n",
       "Date_of_Journey    0\n",
       "Source             0\n",
       "Destination        0\n",
       "Route              1\n",
       "Dep_Time           0\n",
       "Arrival_Time       0\n",
       "Duration           0\n",
       "Total_Stops        1\n",
       "Additional_Info    0\n",
       "Price              0\n",
       "dtype: int64"
      ]
     },
     "execution_count": 119,
     "metadata": {},
     "output_type": "execute_result"
    }
   ],
   "source": [
    "df.isnull().sum()"
   ]
  },
  {
   "cell_type": "markdown",
   "id": "c2a55eb3",
   "metadata": {},
   "source": [
    "**Observation:**\n",
    "- Since there is only onemissing value in Route and Total_Stops columns, so these data will be dropped."
   ]
  },
  {
   "cell_type": "code",
   "execution_count": 122,
   "id": "7e584665",
   "metadata": {},
   "outputs": [],
   "source": [
    "df.dropna(inplace = True)"
   ]
  },
  {
   "cell_type": "markdown",
   "id": "199b1d98",
   "metadata": {},
   "source": [
    "### Rechecking for Missing Data after handling"
   ]
  },
  {
   "cell_type": "code",
   "execution_count": 128,
   "id": "3f9fa770",
   "metadata": {},
   "outputs": [
    {
     "data": {
      "text/plain": [
       "Airline            0\n",
       "Date_of_Journey    0\n",
       "Source             0\n",
       "Destination        0\n",
       "Route              0\n",
       "Dep_Time           0\n",
       "Arrival_Time       0\n",
       "Duration           0\n",
       "Total_Stops        0\n",
       "Additional_Info    0\n",
       "Price              0\n",
       "dtype: int64"
      ]
     },
     "execution_count": 128,
     "metadata": {},
     "output_type": "execute_result"
    }
   ],
   "source": [
    "df.isnull().sum()"
   ]
  },
  {
   "cell_type": "markdown",
   "id": "33d3f215",
   "metadata": {},
   "source": [
    "**Observation:**\n",
    "- No Missing data present"
   ]
  },
  {
   "cell_type": "markdown",
   "id": "819e36ec",
   "metadata": {},
   "source": [
    "### Converting 'Date of Journey' Column to Numeric Data"
   ]
  },
  {
   "cell_type": "code",
   "execution_count": 132,
   "id": "815bd524",
   "metadata": {},
   "outputs": [
    {
     "data": {
      "text/plain": [
       "array(['24/03/2019', '1/05/2019', '9/06/2019', '12/05/2019', '01/03/2019',\n",
       "       '24/06/2019', '12/03/2019', '27/05/2019', '1/06/2019',\n",
       "       '18/04/2019', '9/05/2019', '24/04/2019', '3/03/2019', '15/04/2019',\n",
       "       '12/06/2019', '6/03/2019', '21/03/2019', '3/04/2019', '6/05/2019',\n",
       "       '15/05/2019', '18/06/2019', '15/06/2019', '6/04/2019',\n",
       "       '18/05/2019', '27/06/2019', '21/05/2019', '06/03/2019',\n",
       "       '3/06/2019', '15/03/2019', '3/05/2019', '9/03/2019', '6/06/2019',\n",
       "       '24/05/2019', '09/03/2019', '1/04/2019', '21/04/2019',\n",
       "       '21/06/2019', '27/03/2019', '18/03/2019', '12/04/2019',\n",
       "       '9/04/2019', '1/03/2019', '03/03/2019', '27/04/2019'], dtype=object)"
      ]
     },
     "execution_count": 132,
     "metadata": {},
     "output_type": "execute_result"
    }
   ],
   "source": [
    "# Getting the Unique Dates\n",
    "\n",
    "df.Date_of_Journey.unique()"
   ]
  },
  {
   "cell_type": "code",
   "execution_count": 134,
   "id": "76bec90c",
   "metadata": {},
   "outputs": [],
   "source": [
    "# Splitting the Data of journey into two different columns - one containing Date and other containing Month\n",
    "\n",
    "df[\"Journey_Date\"] =df['Date_of_Journey'].str.split('/').str[0].astype(int)\n",
    "\n",
    "df[\"Journey_Month\"] =df['Date_of_Journey'].str.split('/').str[1].astype(int)"
   ]
  },
  {
   "cell_type": "markdown",
   "id": "0757187f",
   "metadata": {},
   "source": [
    "**As the dataset contains data from the same year 2019, so there is no need to split the 'Journey Date' as per year years.**"
   ]
  },
  {
   "cell_type": "code",
   "execution_count": 137,
   "id": "06a18afa",
   "metadata": {},
   "outputs": [],
   "source": [
    "# Dropping the Date_of_Journey Column\n",
    "\n",
    "df = df.drop(['Date_of_Journey'], axis = 1)"
   ]
  },
  {
   "cell_type": "code",
   "execution_count": 139,
   "id": "6b0c3338",
   "metadata": {
    "scrolled": true
   },
   "outputs": [
    {
     "data": {
      "text/html": [
       "<div>\n",
       "<style scoped>\n",
       "    .dataframe tbody tr th:only-of-type {\n",
       "        vertical-align: middle;\n",
       "    }\n",
       "\n",
       "    .dataframe tbody tr th {\n",
       "        vertical-align: top;\n",
       "    }\n",
       "\n",
       "    .dataframe thead th {\n",
       "        text-align: right;\n",
       "    }\n",
       "</style>\n",
       "<table border=\"1\" class=\"dataframe\">\n",
       "  <thead>\n",
       "    <tr style=\"text-align: right;\">\n",
       "      <th></th>\n",
       "      <th>Airline</th>\n",
       "      <th>Source</th>\n",
       "      <th>Destination</th>\n",
       "      <th>Route</th>\n",
       "      <th>Dep_Time</th>\n",
       "      <th>Arrival_Time</th>\n",
       "      <th>Duration</th>\n",
       "      <th>Total_Stops</th>\n",
       "      <th>Additional_Info</th>\n",
       "      <th>Price</th>\n",
       "      <th>Journey_Date</th>\n",
       "      <th>Journey_Month</th>\n",
       "    </tr>\n",
       "  </thead>\n",
       "  <tbody>\n",
       "    <tr>\n",
       "      <th>0</th>\n",
       "      <td>IndiGo</td>\n",
       "      <td>Banglore</td>\n",
       "      <td>New Delhi</td>\n",
       "      <td>BLR → DEL</td>\n",
       "      <td>22:20</td>\n",
       "      <td>01:10 22 Mar</td>\n",
       "      <td>2h 50m</td>\n",
       "      <td>non-stop</td>\n",
       "      <td>no info</td>\n",
       "      <td>3897</td>\n",
       "      <td>24</td>\n",
       "      <td>3</td>\n",
       "    </tr>\n",
       "    <tr>\n",
       "      <th>1</th>\n",
       "      <td>Air India</td>\n",
       "      <td>Kolkata</td>\n",
       "      <td>Banglore</td>\n",
       "      <td>CCU → IXR → BBI → BLR</td>\n",
       "      <td>05:50</td>\n",
       "      <td>13:15</td>\n",
       "      <td>7h 25m</td>\n",
       "      <td>2 stops</td>\n",
       "      <td>no info</td>\n",
       "      <td>7662</td>\n",
       "      <td>1</td>\n",
       "      <td>5</td>\n",
       "    </tr>\n",
       "  </tbody>\n",
       "</table>\n",
       "</div>"
      ],
      "text/plain": [
       "     Airline    Source Destination                  Route Dep_Time  \\\n",
       "0     IndiGo  Banglore   New Delhi              BLR → DEL    22:20   \n",
       "1  Air India   Kolkata    Banglore  CCU → IXR → BBI → BLR    05:50   \n",
       "\n",
       "   Arrival_Time Duration Total_Stops Additional_Info  Price  Journey_Date  \\\n",
       "0  01:10 22 Mar   2h 50m    non-stop         no info   3897            24   \n",
       "1         13:15   7h 25m     2 stops         no info   7662             1   \n",
       "\n",
       "   Journey_Month  \n",
       "0              3  \n",
       "1              5  "
      ]
     },
     "execution_count": 139,
     "metadata": {},
     "output_type": "execute_result"
    }
   ],
   "source": [
    "df.head(2)"
   ]
  },
  {
   "cell_type": "markdown",
   "id": "feab674b",
   "metadata": {},
   "source": [
    "#### PLOT FOR MOST TRAVELLED MONTH OF THE YEAR 2019"
   ]
  },
  {
   "cell_type": "code",
   "execution_count": 142,
   "id": "aadc853b",
   "metadata": {
    "scrolled": true
   },
   "outputs": [
    {
     "data": {
      "image/png": "[encoded data removed]",
      "text/plain": [
       "<Figure size 640x480 with 1 Axes>"
      ]
     },
     "metadata": {},
     "output_type": "display_data"
    }
   ],
   "source": [
    "sns.countplot(x = 'Journey_Month', data = df)\n",
    "\n",
    "plt.title('Most Travelled Month', fontsize = 12, color = 'black')\n",
    "plt.xlabel('Month', fontsize = 10)\n",
    "plt.ylabel('Count', fontsize = 10)\n",
    "\n",
    "plt.xticks(rotation = 90)\n",
    "plt.yticks(range(1, 8))\n",
    "\n",
    "plt.show()"
   ]
  },
  {
   "cell_type": "markdown",
   "id": "b36c2d67",
   "metadata": {},
   "source": [
    "**Observation:**\n",
    "- From the plot, it can be seen that people mostly travelled in the 5th month (May) and 6th Month (June) of the year 2019.\n",
    "- Least number of people travelled in the 4rd month (March)."
   ]
  },
  {
   "cell_type": "markdown",
   "id": "f6fa0a18",
   "metadata": {},
   "source": [
    "### Converting 'Dep_Time' Column to Numeric Data"
   ]
  },
  {
   "cell_type": "code",
   "execution_count": 146,
   "id": "e44dac27",
   "metadata": {},
   "outputs": [],
   "source": [
    "# Splitting the Dep_Time into two different columns - one containing Hours and other containing Minutes\n",
    "\n",
    "df[\"Dep_Hour\"] = pd.to_datetime(df[\"Dep_Time\"]).dt.hour\n",
    "\n",
    "df[\"Dep_Min\"] = pd.to_datetime(df[\"Dep_Time\"]).dt.minute"
   ]
  },
  {
   "cell_type": "code",
   "execution_count": 148,
   "id": "14b7eeb9",
   "metadata": {},
   "outputs": [],
   "source": [
    "# Dropping the Dep_Time Column\n",
    "\n",
    "df = df.drop(['Dep_Time'], axis = 1)"
   ]
  },
  {
   "cell_type": "code",
   "execution_count": 150,
   "id": "db5e28d6",
   "metadata": {},
   "outputs": [
    {
     "data": {
      "text/html": [
       "<div>\n",
       "<style scoped>\n",
       "    .dataframe tbody tr th:only-of-type {\n",
       "        vertical-align: middle;\n",
       "    }\n",
       "\n",
       "    .dataframe tbody tr th {\n",
       "        vertical-align: top;\n",
       "    }\n",
       "\n",
       "    .dataframe thead th {\n",
       "        text-align: right;\n",
       "    }\n",
       "</style>\n",
       "<table border=\"1\" class=\"dataframe\">\n",
       "  <thead>\n",
       "    <tr style=\"text-align: right;\">\n",
       "      <th></th>\n",
       "      <th>Airline</th>\n",
       "      <th>Source</th>\n",
       "      <th>Destination</th>\n",
       "      <th>Route</th>\n",
       "      <th>Arrival_Time</th>\n",
       "      <th>Duration</th>\n",
       "      <th>Total_Stops</th>\n",
       "      <th>Additional_Info</th>\n",
       "      <th>Price</th>\n",
       "      <th>Journey_Date</th>\n",
       "      <th>Journey_Month</th>\n",
       "      <th>Dep_Hour</th>\n",
       "      <th>Dep_Min</th>\n",
       "    </tr>\n",
       "  </thead>\n",
       "  <tbody>\n",
       "    <tr>\n",
       "      <th>0</th>\n",
       "      <td>IndiGo</td>\n",
       "      <td>Banglore</td>\n",
       "      <td>New Delhi</td>\n",
       "      <td>BLR → DEL</td>\n",
       "      <td>01:10 22 Mar</td>\n",
       "      <td>2h 50m</td>\n",
       "      <td>non-stop</td>\n",
       "      <td>no info</td>\n",
       "      <td>3897</td>\n",
       "      <td>24</td>\n",
       "      <td>3</td>\n",
       "      <td>22</td>\n",
       "      <td>20</td>\n",
       "    </tr>\n",
       "    <tr>\n",
       "      <th>1</th>\n",
       "      <td>Air India</td>\n",
       "      <td>Kolkata</td>\n",
       "      <td>Banglore</td>\n",
       "      <td>CCU → IXR → BBI → BLR</td>\n",
       "      <td>13:15</td>\n",
       "      <td>7h 25m</td>\n",
       "      <td>2 stops</td>\n",
       "      <td>no info</td>\n",
       "      <td>7662</td>\n",
       "      <td>1</td>\n",
       "      <td>5</td>\n",
       "      <td>5</td>\n",
       "      <td>50</td>\n",
       "    </tr>\n",
       "  </tbody>\n",
       "</table>\n",
       "</div>"
      ],
      "text/plain": [
       "     Airline    Source Destination                  Route  Arrival_Time  \\\n",
       "0     IndiGo  Banglore   New Delhi              BLR → DEL  01:10 22 Mar   \n",
       "1  Air India   Kolkata    Banglore  CCU → IXR → BBI → BLR         13:15   \n",
       "\n",
       "  Duration Total_Stops Additional_Info  Price  Journey_Date  Journey_Month  \\\n",
       "0   2h 50m    non-stop         no info   3897            24              3   \n",
       "1   7h 25m     2 stops         no info   7662             1              5   \n",
       "\n",
       "   Dep_Hour  Dep_Min  \n",
       "0        22       20  \n",
       "1         5       50  "
      ]
     },
     "execution_count": 150,
     "metadata": {},
     "output_type": "execute_result"
    }
   ],
   "source": [
    "df.head(2)"
   ]
  },
  {
   "cell_type": "markdown",
   "id": "bc708bdf",
   "metadata": {},
   "source": [
    "### Converting 'Arrival_Time' Column to Numeric Data"
   ]
  },
  {
   "cell_type": "code",
   "execution_count": 153,
   "id": "0891d042",
   "metadata": {},
   "outputs": [],
   "source": [
    "# Splitting the Dep_Time into two different columns - one containing Hours and other containing Minutes\n",
    "\n",
    "df[\"Arrival_Hour\"] = pd.to_datetime(df[\"Arrival_Time\"]).dt.hour\n",
    "\n",
    "df[\"Arrival_Min\"] = pd.to_datetime(df[\"Arrival_Time\"]).dt.minute"
   ]
  },
  {
   "cell_type": "code",
   "execution_count": 155,
   "id": "cd0f4144",
   "metadata": {},
   "outputs": [],
   "source": [
    "# Dropping the Arrival_Time Column\n",
    "\n",
    "df = df.drop(['Arrival_Time'], axis = 1)"
   ]
  },
  {
   "cell_type": "code",
   "execution_count": 157,
   "id": "36147163",
   "metadata": {},
   "outputs": [
    {
     "data": {
      "text/html": [
       "<div>\n",
       "<style scoped>\n",
       "    .dataframe tbody tr th:only-of-type {\n",
       "        vertical-align: middle;\n",
       "    }\n",
       "\n",
       "    .dataframe tbody tr th {\n",
       "        vertical-align: top;\n",
       "    }\n",
       "\n",
       "    .dataframe thead th {\n",
       "        text-align: right;\n",
       "    }\n",
       "</style>\n",
       "<table border=\"1\" class=\"dataframe\">\n",
       "  <thead>\n",
       "    <tr style=\"text-align: right;\">\n",
       "      <th></th>\n",
       "      <th>Airline</th>\n",
       "      <th>Source</th>\n",
       "      <th>Destination</th>\n",
       "      <th>Route</th>\n",
       "      <th>Duration</th>\n",
       "      <th>Total_Stops</th>\n",
       "      <th>Additional_Info</th>\n",
       "      <th>Price</th>\n",
       "      <th>Journey_Date</th>\n",
       "      <th>Journey_Month</th>\n",
       "      <th>Dep_Hour</th>\n",
       "      <th>Dep_Min</th>\n",
       "      <th>Arrival_Hour</th>\n",
       "      <th>Arrival_Min</th>\n",
       "    </tr>\n",
       "  </thead>\n",
       "  <tbody>\n",
       "    <tr>\n",
       "      <th>0</th>\n",
       "      <td>IndiGo</td>\n",
       "      <td>Banglore</td>\n",
       "      <td>New Delhi</td>\n",
       "      <td>BLR → DEL</td>\n",
       "      <td>2h 50m</td>\n",
       "      <td>non-stop</td>\n",
       "      <td>no info</td>\n",
       "      <td>3897</td>\n",
       "      <td>24</td>\n",
       "      <td>3</td>\n",
       "      <td>22</td>\n",
       "      <td>20</td>\n",
       "      <td>1</td>\n",
       "      <td>10</td>\n",
       "    </tr>\n",
       "    <tr>\n",
       "      <th>1</th>\n",
       "      <td>Air India</td>\n",
       "      <td>Kolkata</td>\n",
       "      <td>Banglore</td>\n",
       "      <td>CCU → IXR → BBI → BLR</td>\n",
       "      <td>7h 25m</td>\n",
       "      <td>2 stops</td>\n",
       "      <td>no info</td>\n",
       "      <td>7662</td>\n",
       "      <td>1</td>\n",
       "      <td>5</td>\n",
       "      <td>5</td>\n",
       "      <td>50</td>\n",
       "      <td>13</td>\n",
       "      <td>15</td>\n",
       "    </tr>\n",
       "  </tbody>\n",
       "</table>\n",
       "</div>"
      ],
      "text/plain": [
       "     Airline    Source Destination                  Route Duration  \\\n",
       "0     IndiGo  Banglore   New Delhi              BLR → DEL   2h 50m   \n",
       "1  Air India   Kolkata    Banglore  CCU → IXR → BBI → BLR   7h 25m   \n",
       "\n",
       "  Total_Stops Additional_Info  Price  Journey_Date  Journey_Month  Dep_Hour  \\\n",
       "0    non-stop         no info   3897            24              3        22   \n",
       "1     2 stops         no info   7662             1              5         5   \n",
       "\n",
       "   Dep_Min  Arrival_Hour  Arrival_Min  \n",
       "0       20             1           10  \n",
       "1       50            13           15  "
      ]
     },
     "execution_count": 157,
     "metadata": {},
     "output_type": "execute_result"
    }
   ],
   "source": [
    "df.head(2)"
   ]
  },
  {
   "cell_type": "markdown",
   "id": "10732d31",
   "metadata": {},
   "source": [
    "### Converting 'Duration' (hh:mm) format to 'Duration' (Minutes) Format"
   ]
  },
  {
   "cell_type": "code",
   "execution_count": 160,
   "id": "1710471d",
   "metadata": {},
   "outputs": [],
   "source": [
    "df['Duration'] = df['Duration'].str.replace(\"h\", '*60').str.replace(' ','+').str.replace('m','*1').apply(eval)"
   ]
  },
  {
   "cell_type": "code",
   "execution_count": 162,
   "id": "072b608b",
   "metadata": {},
   "outputs": [
    {
     "data": {
      "text/html": [
       "<div>\n",
       "<style scoped>\n",
       "    .dataframe tbody tr th:only-of-type {\n",
       "        vertical-align: middle;\n",
       "    }\n",
       "\n",
       "    .dataframe tbody tr th {\n",
       "        vertical-align: top;\n",
       "    }\n",
       "\n",
       "    .dataframe thead th {\n",
       "        text-align: right;\n",
       "    }\n",
       "</style>\n",
       "<table border=\"1\" class=\"dataframe\">\n",
       "  <thead>\n",
       "    <tr style=\"text-align: right;\">\n",
       "      <th></th>\n",
       "      <th>Airline</th>\n",
       "      <th>Source</th>\n",
       "      <th>Destination</th>\n",
       "      <th>Route</th>\n",
       "      <th>Duration</th>\n",
       "      <th>Total_Stops</th>\n",
       "      <th>Additional_Info</th>\n",
       "      <th>Price</th>\n",
       "      <th>Journey_Date</th>\n",
       "      <th>Journey_Month</th>\n",
       "      <th>Dep_Hour</th>\n",
       "      <th>Dep_Min</th>\n",
       "      <th>Arrival_Hour</th>\n",
       "      <th>Arrival_Min</th>\n",
       "    </tr>\n",
       "  </thead>\n",
       "  <tbody>\n",
       "    <tr>\n",
       "      <th>0</th>\n",
       "      <td>IndiGo</td>\n",
       "      <td>Banglore</td>\n",
       "      <td>New Delhi</td>\n",
       "      <td>BLR → DEL</td>\n",
       "      <td>170</td>\n",
       "      <td>non-stop</td>\n",
       "      <td>no info</td>\n",
       "      <td>3897</td>\n",
       "      <td>24</td>\n",
       "      <td>3</td>\n",
       "      <td>22</td>\n",
       "      <td>20</td>\n",
       "      <td>1</td>\n",
       "      <td>10</td>\n",
       "    </tr>\n",
       "    <tr>\n",
       "      <th>1</th>\n",
       "      <td>Air India</td>\n",
       "      <td>Kolkata</td>\n",
       "      <td>Banglore</td>\n",
       "      <td>CCU → IXR → BBI → BLR</td>\n",
       "      <td>445</td>\n",
       "      <td>2 stops</td>\n",
       "      <td>no info</td>\n",
       "      <td>7662</td>\n",
       "      <td>1</td>\n",
       "      <td>5</td>\n",
       "      <td>5</td>\n",
       "      <td>50</td>\n",
       "      <td>13</td>\n",
       "      <td>15</td>\n",
       "    </tr>\n",
       "  </tbody>\n",
       "</table>\n",
       "</div>"
      ],
      "text/plain": [
       "     Airline    Source Destination                  Route  Duration  \\\n",
       "0     IndiGo  Banglore   New Delhi              BLR → DEL       170   \n",
       "1  Air India   Kolkata    Banglore  CCU → IXR → BBI → BLR       445   \n",
       "\n",
       "  Total_Stops Additional_Info  Price  Journey_Date  Journey_Month  Dep_Hour  \\\n",
       "0    non-stop         no info   3897            24              3        22   \n",
       "1     2 stops         no info   7662             1              5         5   \n",
       "\n",
       "   Dep_Min  Arrival_Hour  Arrival_Min  \n",
       "0       20             1           10  \n",
       "1       50            13           15  "
      ]
     },
     "execution_count": 162,
     "metadata": {},
     "output_type": "execute_result"
    }
   ],
   "source": [
    "df.head(2)"
   ]
  },
  {
   "cell_type": "markdown",
   "id": "ad50dae9",
   "metadata": {},
   "source": [
    "### Correlation "
   ]
  },
  {
   "cell_type": "code",
   "execution_count": 232,
   "id": "2ef3189a",
   "metadata": {},
   "outputs": [
    {
     "data": {
      "text/html": [
       "<div>\n",
       "<style scoped>\n",
       "    .dataframe tbody tr th:only-of-type {\n",
       "        vertical-align: middle;\n",
       "    }\n",
       "\n",
       "    .dataframe tbody tr th {\n",
       "        vertical-align: top;\n",
       "    }\n",
       "\n",
       "    .dataframe thead th {\n",
       "        text-align: right;\n",
       "    }\n",
       "</style>\n",
       "<table border=\"1\" class=\"dataframe\">\n",
       "  <thead>\n",
       "    <tr style=\"text-align: right;\">\n",
       "      <th></th>\n",
       "      <th>Airline</th>\n",
       "      <th>Source</th>\n",
       "      <th>Destination</th>\n",
       "      <th>Route</th>\n",
       "      <th>Duration</th>\n",
       "      <th>Total_Stops</th>\n",
       "      <th>Additional_Info</th>\n",
       "      <th>Price</th>\n",
       "      <th>Journey_Date</th>\n",
       "      <th>Journey_Month</th>\n",
       "      <th>Dep_Hour</th>\n",
       "      <th>Dep_Min</th>\n",
       "      <th>Arrival_Hour</th>\n",
       "      <th>Arrival_Min</th>\n",
       "    </tr>\n",
       "  </thead>\n",
       "  <tbody>\n",
       "    <tr>\n",
       "      <th>Airline</th>\n",
       "      <td>1.000000</td>\n",
       "      <td>-0.013397</td>\n",
       "      <td>0.018446</td>\n",
       "      <td>0.025214</td>\n",
       "      <td>-0.159651</td>\n",
       "      <td>0.035973</td>\n",
       "      <td>-0.077741</td>\n",
       "      <td>-0.039565</td>\n",
       "      <td>0.026137</td>\n",
       "      <td>0.024674</td>\n",
       "      <td>-0.035269</td>\n",
       "      <td>-0.059922</td>\n",
       "      <td>-0.007567</td>\n",
       "      <td>-0.071092</td>\n",
       "    </tr>\n",
       "    <tr>\n",
       "      <th>Source</th>\n",
       "      <td>-0.013397</td>\n",
       "      <td>1.000000</td>\n",
       "      <td>-0.592576</td>\n",
       "      <td>0.403412</td>\n",
       "      <td>0.161886</td>\n",
       "      <td>-0.225605</td>\n",
       "      <td>-0.015859</td>\n",
       "      <td>0.015999</td>\n",
       "      <td>0.004902</td>\n",
       "      <td>0.183268</td>\n",
       "      <td>0.059047</td>\n",
       "      <td>-0.056998</td>\n",
       "      <td>0.025635</td>\n",
       "      <td>0.021040</td>\n",
       "    </tr>\n",
       "    <tr>\n",
       "      <th>Destination</th>\n",
       "      <td>0.018446</td>\n",
       "      <td>-0.592576</td>\n",
       "      <td>1.000000</td>\n",
       "      <td>-0.461176</td>\n",
       "      <td>-0.257352</td>\n",
       "      <td>0.337872</td>\n",
       "      <td>0.013103</td>\n",
       "      <td>-0.071122</td>\n",
       "      <td>-0.041025</td>\n",
       "      <td>-0.364682</td>\n",
       "      <td>-0.072997</td>\n",
       "      <td>0.127931</td>\n",
       "      <td>-0.039729</td>\n",
       "      <td>0.017196</td>\n",
       "    </tr>\n",
       "    <tr>\n",
       "      <th>Route</th>\n",
       "      <td>0.025214</td>\n",
       "      <td>0.403412</td>\n",
       "      <td>-0.461176</td>\n",
       "      <td>1.000000</td>\n",
       "      <td>0.288773</td>\n",
       "      <td>-0.437749</td>\n",
       "      <td>0.043728</td>\n",
       "      <td>0.164149</td>\n",
       "      <td>0.081632</td>\n",
       "      <td>0.244186</td>\n",
       "      <td>-0.075002</td>\n",
       "      <td>-0.068071</td>\n",
       "      <td>0.013898</td>\n",
       "      <td>-0.173352</td>\n",
       "    </tr>\n",
       "    <tr>\n",
       "      <th>Duration</th>\n",
       "      <td>-0.159651</td>\n",
       "      <td>0.161886</td>\n",
       "      <td>-0.257352</td>\n",
       "      <td>0.288773</td>\n",
       "      <td>1.000000</td>\n",
       "      <td>-0.602282</td>\n",
       "      <td>-0.153066</td>\n",
       "      <td>0.506480</td>\n",
       "      <td>-0.022439</td>\n",
       "      <td>0.014836</td>\n",
       "      <td>0.002088</td>\n",
       "      <td>-0.019099</td>\n",
       "      <td>0.051531</td>\n",
       "      <td>-0.069663</td>\n",
       "    </tr>\n",
       "    <tr>\n",
       "      <th>Total_Stops</th>\n",
       "      <td>0.035973</td>\n",
       "      <td>-0.225605</td>\n",
       "      <td>0.337872</td>\n",
       "      <td>-0.437749</td>\n",
       "      <td>-0.602282</td>\n",
       "      <td>1.000000</td>\n",
       "      <td>0.145928</td>\n",
       "      <td>-0.571221</td>\n",
       "      <td>0.029225</td>\n",
       "      <td>-0.026328</td>\n",
       "      <td>0.039224</td>\n",
       "      <td>0.048901</td>\n",
       "      <td>-0.095650</td>\n",
       "      <td>0.175980</td>\n",
       "    </tr>\n",
       "    <tr>\n",
       "      <th>Additional_Info</th>\n",
       "      <td>-0.077741</td>\n",
       "      <td>-0.015859</td>\n",
       "      <td>0.013103</td>\n",
       "      <td>0.043728</td>\n",
       "      <td>-0.153066</td>\n",
       "      <td>0.145928</td>\n",
       "      <td>1.000000</td>\n",
       "      <td>-0.063753</td>\n",
       "      <td>-0.012798</td>\n",
       "      <td>-0.045466</td>\n",
       "      <td>-0.048077</td>\n",
       "      <td>-0.026082</td>\n",
       "      <td>0.031167</td>\n",
       "      <td>0.039345</td>\n",
       "    </tr>\n",
       "    <tr>\n",
       "      <th>Price</th>\n",
       "      <td>-0.039565</td>\n",
       "      <td>0.015999</td>\n",
       "      <td>-0.071122</td>\n",
       "      <td>0.164149</td>\n",
       "      <td>0.506480</td>\n",
       "      <td>-0.571221</td>\n",
       "      <td>-0.063753</td>\n",
       "      <td>1.000000</td>\n",
       "      <td>-0.153774</td>\n",
       "      <td>-0.103643</td>\n",
       "      <td>0.006799</td>\n",
       "      <td>-0.024458</td>\n",
       "      <td>0.024244</td>\n",
       "      <td>-0.086155</td>\n",
       "    </tr>\n",
       "    <tr>\n",
       "      <th>Journey_Date</th>\n",
       "      <td>0.026137</td>\n",
       "      <td>0.004902</td>\n",
       "      <td>-0.041025</td>\n",
       "      <td>0.081632</td>\n",
       "      <td>-0.022439</td>\n",
       "      <td>0.029225</td>\n",
       "      <td>-0.012798</td>\n",
       "      <td>-0.153774</td>\n",
       "      <td>1.000000</td>\n",
       "      <td>-0.038359</td>\n",
       "      <td>0.002170</td>\n",
       "      <td>-0.008170</td>\n",
       "      <td>-0.003245</td>\n",
       "      <td>-0.017510</td>\n",
       "    </tr>\n",
       "    <tr>\n",
       "      <th>Journey_Month</th>\n",
       "      <td>0.024674</td>\n",
       "      <td>0.183268</td>\n",
       "      <td>-0.364682</td>\n",
       "      <td>0.244186</td>\n",
       "      <td>0.014836</td>\n",
       "      <td>-0.026328</td>\n",
       "      <td>-0.045466</td>\n",
       "      <td>-0.103643</td>\n",
       "      <td>-0.038359</td>\n",
       "      <td>1.000000</td>\n",
       "      <td>0.039127</td>\n",
       "      <td>-0.059267</td>\n",
       "      <td>-0.003927</td>\n",
       "      <td>-0.100626</td>\n",
       "    </tr>\n",
       "    <tr>\n",
       "      <th>Dep_Hour</th>\n",
       "      <td>-0.035269</td>\n",
       "      <td>0.059047</td>\n",
       "      <td>-0.072997</td>\n",
       "      <td>-0.075002</td>\n",
       "      <td>0.002088</td>\n",
       "      <td>0.039224</td>\n",
       "      <td>-0.048077</td>\n",
       "      <td>0.006799</td>\n",
       "      <td>0.002170</td>\n",
       "      <td>0.039127</td>\n",
       "      <td>1.000000</td>\n",
       "      <td>-0.024745</td>\n",
       "      <td>0.005180</td>\n",
       "      <td>0.067911</td>\n",
       "    </tr>\n",
       "    <tr>\n",
       "      <th>Dep_Min</th>\n",
       "      <td>-0.059922</td>\n",
       "      <td>-0.056998</td>\n",
       "      <td>0.127931</td>\n",
       "      <td>-0.068071</td>\n",
       "      <td>-0.019099</td>\n",
       "      <td>0.048901</td>\n",
       "      <td>-0.026082</td>\n",
       "      <td>-0.024458</td>\n",
       "      <td>-0.008170</td>\n",
       "      <td>-0.059267</td>\n",
       "      <td>-0.024745</td>\n",
       "      <td>1.000000</td>\n",
       "      <td>0.043122</td>\n",
       "      <td>-0.017597</td>\n",
       "    </tr>\n",
       "    <tr>\n",
       "      <th>Arrival_Hour</th>\n",
       "      <td>-0.007567</td>\n",
       "      <td>0.025635</td>\n",
       "      <td>-0.039729</td>\n",
       "      <td>0.013898</td>\n",
       "      <td>0.051531</td>\n",
       "      <td>-0.095650</td>\n",
       "      <td>0.031167</td>\n",
       "      <td>0.024244</td>\n",
       "      <td>-0.003245</td>\n",
       "      <td>-0.003927</td>\n",
       "      <td>0.005180</td>\n",
       "      <td>0.043122</td>\n",
       "      <td>1.000000</td>\n",
       "      <td>-0.154363</td>\n",
       "    </tr>\n",
       "    <tr>\n",
       "      <th>Arrival_Min</th>\n",
       "      <td>-0.071092</td>\n",
       "      <td>0.021040</td>\n",
       "      <td>0.017196</td>\n",
       "      <td>-0.173352</td>\n",
       "      <td>-0.069663</td>\n",
       "      <td>0.175980</td>\n",
       "      <td>0.039345</td>\n",
       "      <td>-0.086155</td>\n",
       "      <td>-0.017510</td>\n",
       "      <td>-0.100626</td>\n",
       "      <td>0.067911</td>\n",
       "      <td>-0.017597</td>\n",
       "      <td>-0.154363</td>\n",
       "      <td>1.000000</td>\n",
       "    </tr>\n",
       "  </tbody>\n",
       "</table>\n",
       "</div>"
      ],
      "text/plain": [
       "                  Airline    Source  Destination     Route  Duration  \\\n",
       "Airline          1.000000 -0.013397     0.018446  0.025214 -0.159651   \n",
       "Source          -0.013397  1.000000    -0.592576  0.403412  0.161886   \n",
       "Destination      0.018446 -0.592576     1.000000 -0.461176 -0.257352   \n",
       "Route            0.025214  0.403412    -0.461176  1.000000  0.288773   \n",
       "Duration        -0.159651  0.161886    -0.257352  0.288773  1.000000   \n",
       "Total_Stops      0.035973 -0.225605     0.337872 -0.437749 -0.602282   \n",
       "Additional_Info -0.077741 -0.015859     0.013103  0.043728 -0.153066   \n",
       "Price           -0.039565  0.015999    -0.071122  0.164149  0.506480   \n",
       "Journey_Date     0.026137  0.004902    -0.041025  0.081632 -0.022439   \n",
       "Journey_Month    0.024674  0.183268    -0.364682  0.244186  0.014836   \n",
       "Dep_Hour        -0.035269  0.059047    -0.072997 -0.075002  0.002088   \n",
       "Dep_Min         -0.059922 -0.056998     0.127931 -0.068071 -0.019099   \n",
       "Arrival_Hour    -0.007567  0.025635    -0.039729  0.013898  0.051531   \n",
       "Arrival_Min     -0.071092  0.021040     0.017196 -0.173352 -0.069663   \n",
       "\n",
       "                 Total_Stops  Additional_Info     Price  Journey_Date  \\\n",
       "Airline             0.035973        -0.077741 -0.039565      0.026137   \n",
       "Source             -0.225605        -0.015859  0.015999      0.004902   \n",
       "Destination         0.337872         0.013103 -0.071122     -0.041025   \n",
       "Route              -0.437749         0.043728  0.164149      0.081632   \n",
       "Duration           -0.602282        -0.153066  0.506480     -0.022439   \n",
       "Total_Stops         1.000000         0.145928 -0.571221      0.029225   \n",
       "Additional_Info     0.145928         1.000000 -0.063753     -0.012798   \n",
       "Price              -0.571221        -0.063753  1.000000     -0.153774   \n",
       "Journey_Date        0.029225        -0.012798 -0.153774      1.000000   \n",
       "Journey_Month      -0.026328        -0.045466 -0.103643     -0.038359   \n",
       "Dep_Hour            0.039224        -0.048077  0.006799      0.002170   \n",
       "Dep_Min             0.048901        -0.026082 -0.024458     -0.008170   \n",
       "Arrival_Hour       -0.095650         0.031167  0.024244     -0.003245   \n",
       "Arrival_Min         0.175980         0.039345 -0.086155     -0.017510   \n",
       "\n",
       "                 Journey_Month  Dep_Hour   Dep_Min  Arrival_Hour  Arrival_Min  \n",
       "Airline               0.024674 -0.035269 -0.059922     -0.007567    -0.071092  \n",
       "Source                0.183268  0.059047 -0.056998      0.025635     0.021040  \n",
       "Destination          -0.364682 -0.072997  0.127931     -0.039729     0.017196  \n",
       "Route                 0.244186 -0.075002 -0.068071      0.013898    -0.173352  \n",
       "Duration              0.014836  0.002088 -0.019099      0.051531    -0.069663  \n",
       "Total_Stops          -0.026328  0.039224  0.048901     -0.095650     0.175980  \n",
       "Additional_Info      -0.045466 -0.048077 -0.026082      0.031167     0.039345  \n",
       "Price                -0.103643  0.006799 -0.024458      0.024244    -0.086155  \n",
       "Journey_Date         -0.038359  0.002170 -0.008170     -0.003245    -0.017510  \n",
       "Journey_Month         1.000000  0.039127 -0.059267     -0.003927    -0.100626  \n",
       "Dep_Hour              0.039127  1.000000 -0.024745      0.005180     0.067911  \n",
       "Dep_Min              -0.059267 -0.024745  1.000000      0.043122    -0.017597  \n",
       "Arrival_Hour         -0.003927  0.005180  0.043122      1.000000    -0.154363  \n",
       "Arrival_Min          -0.100626  0.067911 -0.017597     -0.154363     1.000000  "
      ]
     },
     "execution_count": 232,
     "metadata": {},
     "output_type": "execute_result"
    }
   ],
   "source": [
    "df.corr()"
   ]
  },
  {
   "cell_type": "markdown",
   "id": "dd8518e9",
   "metadata": {},
   "source": [
    "##### Plotting Heatmap"
   ]
  },
  {
   "cell_type": "code",
   "execution_count": 233,
   "id": "dbc5e50d",
   "metadata": {
    "scrolled": true
   },
   "outputs": [
    {
     "data": {
      "image/png": "[encoded data removed]",
      "text/plain": [
       "<Figure size 1000x1000 with 2 Axes>"
      ]
     },
     "metadata": {},
     "output_type": "display_data"
    }
   ],
   "source": [
    "plt.figure(figsize = (10, 10))\n",
    "\n",
    "sns.heatmap(df.corr(),annot = True)\n",
    "\n",
    "plt.show()"
   ]
  },
  {
   "cell_type": "markdown",
   "id": "9b21a279",
   "metadata": {},
   "source": [
    "**Observation:**\n",
    "- No significant correlation between features"
   ]
  },
  {
   "cell_type": "markdown",
   "id": "c2694a2e",
   "metadata": {},
   "source": [
    "### Converting Categorical Data to Numerical Data"
   ]
  },
  {
   "cell_type": "code",
   "execution_count": 183,
   "id": "36a4da64",
   "metadata": {
    "scrolled": true
   },
   "outputs": [
    {
     "data": {
      "text/html": [
       "<div>\n",
       "<style scoped>\n",
       "    .dataframe tbody tr th:only-of-type {\n",
       "        vertical-align: middle;\n",
       "    }\n",
       "\n",
       "    .dataframe tbody tr th {\n",
       "        vertical-align: top;\n",
       "    }\n",
       "\n",
       "    .dataframe thead th {\n",
       "        text-align: right;\n",
       "    }\n",
       "</style>\n",
       "<table border=\"1\" class=\"dataframe\">\n",
       "  <thead>\n",
       "    <tr style=\"text-align: right;\">\n",
       "      <th></th>\n",
       "      <th>Airline</th>\n",
       "      <th>Source</th>\n",
       "      <th>Destination</th>\n",
       "      <th>Route</th>\n",
       "      <th>Duration</th>\n",
       "      <th>Total_Stops</th>\n",
       "      <th>Additional_Info</th>\n",
       "      <th>Price</th>\n",
       "      <th>Journey_Date</th>\n",
       "      <th>Journey_Month</th>\n",
       "      <th>Dep_Hour</th>\n",
       "      <th>Dep_Min</th>\n",
       "      <th>Arrival_Hour</th>\n",
       "      <th>Arrival_Min</th>\n",
       "    </tr>\n",
       "  </thead>\n",
       "  <tbody>\n",
       "    <tr>\n",
       "      <th>0</th>\n",
       "      <td>IndiGo</td>\n",
       "      <td>Banglore</td>\n",
       "      <td>New Delhi</td>\n",
       "      <td>BLR → DEL</td>\n",
       "      <td>170</td>\n",
       "      <td>non-stop</td>\n",
       "      <td>no info</td>\n",
       "      <td>3897</td>\n",
       "      <td>24</td>\n",
       "      <td>3</td>\n",
       "      <td>22</td>\n",
       "      <td>20</td>\n",
       "      <td>1</td>\n",
       "      <td>10</td>\n",
       "    </tr>\n",
       "    <tr>\n",
       "      <th>1</th>\n",
       "      <td>Air India</td>\n",
       "      <td>Kolkata</td>\n",
       "      <td>Banglore</td>\n",
       "      <td>CCU → IXR → BBI → BLR</td>\n",
       "      <td>445</td>\n",
       "      <td>2 stops</td>\n",
       "      <td>no info</td>\n",
       "      <td>7662</td>\n",
       "      <td>1</td>\n",
       "      <td>5</td>\n",
       "      <td>5</td>\n",
       "      <td>50</td>\n",
       "      <td>13</td>\n",
       "      <td>15</td>\n",
       "    </tr>\n",
       "    <tr>\n",
       "      <th>2</th>\n",
       "      <td>Jet Airways</td>\n",
       "      <td>Delhi</td>\n",
       "      <td>Cochin</td>\n",
       "      <td>DEL → LKO → BOM → COK</td>\n",
       "      <td>1140</td>\n",
       "      <td>2 stops</td>\n",
       "      <td>no info</td>\n",
       "      <td>13882</td>\n",
       "      <td>9</td>\n",
       "      <td>6</td>\n",
       "      <td>9</td>\n",
       "      <td>25</td>\n",
       "      <td>4</td>\n",
       "      <td>25</td>\n",
       "    </tr>\n",
       "    <tr>\n",
       "      <th>3</th>\n",
       "      <td>IndiGo</td>\n",
       "      <td>Kolkata</td>\n",
       "      <td>Banglore</td>\n",
       "      <td>CCU → NAG → BLR</td>\n",
       "      <td>325</td>\n",
       "      <td>1 stop</td>\n",
       "      <td>no info</td>\n",
       "      <td>6218</td>\n",
       "      <td>12</td>\n",
       "      <td>5</td>\n",
       "      <td>18</td>\n",
       "      <td>5</td>\n",
       "      <td>23</td>\n",
       "      <td>30</td>\n",
       "    </tr>\n",
       "    <tr>\n",
       "      <th>4</th>\n",
       "      <td>IndiGo</td>\n",
       "      <td>Banglore</td>\n",
       "      <td>New Delhi</td>\n",
       "      <td>BLR → NAG → DEL</td>\n",
       "      <td>285</td>\n",
       "      <td>1 stop</td>\n",
       "      <td>no info</td>\n",
       "      <td>13302</td>\n",
       "      <td>1</td>\n",
       "      <td>3</td>\n",
       "      <td>16</td>\n",
       "      <td>50</td>\n",
       "      <td>21</td>\n",
       "      <td>35</td>\n",
       "    </tr>\n",
       "    <tr>\n",
       "      <th>...</th>\n",
       "      <td>...</td>\n",
       "      <td>...</td>\n",
       "      <td>...</td>\n",
       "      <td>...</td>\n",
       "      <td>...</td>\n",
       "      <td>...</td>\n",
       "      <td>...</td>\n",
       "      <td>...</td>\n",
       "      <td>...</td>\n",
       "      <td>...</td>\n",
       "      <td>...</td>\n",
       "      <td>...</td>\n",
       "      <td>...</td>\n",
       "      <td>...</td>\n",
       "    </tr>\n",
       "    <tr>\n",
       "      <th>10678</th>\n",
       "      <td>Air Asia</td>\n",
       "      <td>Kolkata</td>\n",
       "      <td>Banglore</td>\n",
       "      <td>CCU → BLR</td>\n",
       "      <td>150</td>\n",
       "      <td>non-stop</td>\n",
       "      <td>no info</td>\n",
       "      <td>4107</td>\n",
       "      <td>9</td>\n",
       "      <td>4</td>\n",
       "      <td>19</td>\n",
       "      <td>55</td>\n",
       "      <td>22</td>\n",
       "      <td>25</td>\n",
       "    </tr>\n",
       "    <tr>\n",
       "      <th>10679</th>\n",
       "      <td>Air India</td>\n",
       "      <td>Kolkata</td>\n",
       "      <td>Banglore</td>\n",
       "      <td>CCU → BLR</td>\n",
       "      <td>155</td>\n",
       "      <td>non-stop</td>\n",
       "      <td>no info</td>\n",
       "      <td>4145</td>\n",
       "      <td>27</td>\n",
       "      <td>4</td>\n",
       "      <td>20</td>\n",
       "      <td>45</td>\n",
       "      <td>23</td>\n",
       "      <td>20</td>\n",
       "    </tr>\n",
       "    <tr>\n",
       "      <th>10680</th>\n",
       "      <td>Jet Airways</td>\n",
       "      <td>Banglore</td>\n",
       "      <td>Delhi</td>\n",
       "      <td>BLR → DEL</td>\n",
       "      <td>180</td>\n",
       "      <td>non-stop</td>\n",
       "      <td>no info</td>\n",
       "      <td>7229</td>\n",
       "      <td>27</td>\n",
       "      <td>4</td>\n",
       "      <td>8</td>\n",
       "      <td>20</td>\n",
       "      <td>11</td>\n",
       "      <td>20</td>\n",
       "    </tr>\n",
       "    <tr>\n",
       "      <th>10681</th>\n",
       "      <td>Vistara</td>\n",
       "      <td>Banglore</td>\n",
       "      <td>New Delhi</td>\n",
       "      <td>BLR → DEL</td>\n",
       "      <td>160</td>\n",
       "      <td>non-stop</td>\n",
       "      <td>no info</td>\n",
       "      <td>12648</td>\n",
       "      <td>1</td>\n",
       "      <td>3</td>\n",
       "      <td>11</td>\n",
       "      <td>30</td>\n",
       "      <td>14</td>\n",
       "      <td>10</td>\n",
       "    </tr>\n",
       "    <tr>\n",
       "      <th>10682</th>\n",
       "      <td>Air India</td>\n",
       "      <td>Delhi</td>\n",
       "      <td>Cochin</td>\n",
       "      <td>DEL → GOI → BOM → COK</td>\n",
       "      <td>500</td>\n",
       "      <td>2 stops</td>\n",
       "      <td>no info</td>\n",
       "      <td>11753</td>\n",
       "      <td>9</td>\n",
       "      <td>5</td>\n",
       "      <td>10</td>\n",
       "      <td>55</td>\n",
       "      <td>19</td>\n",
       "      <td>15</td>\n",
       "    </tr>\n",
       "  </tbody>\n",
       "</table>\n",
       "<p>10682 rows × 14 columns</p>\n",
       "</div>"
      ],
      "text/plain": [
       "           Airline    Source Destination                  Route  Duration  \\\n",
       "0           IndiGo  Banglore   New Delhi              BLR → DEL       170   \n",
       "1        Air India   Kolkata    Banglore  CCU → IXR → BBI → BLR       445   \n",
       "2      Jet Airways     Delhi      Cochin  DEL → LKO → BOM → COK      1140   \n",
       "3           IndiGo   Kolkata    Banglore        CCU → NAG → BLR       325   \n",
       "4           IndiGo  Banglore   New Delhi        BLR → NAG → DEL       285   \n",
       "...            ...       ...         ...                    ...       ...   \n",
       "10678     Air Asia   Kolkata    Banglore              CCU → BLR       150   \n",
       "10679    Air India   Kolkata    Banglore              CCU → BLR       155   \n",
       "10680  Jet Airways  Banglore       Delhi              BLR → DEL       180   \n",
       "10681      Vistara  Banglore   New Delhi              BLR → DEL       160   \n",
       "10682    Air India     Delhi      Cochin  DEL → GOI → BOM → COK       500   \n",
       "\n",
       "      Total_Stops Additional_Info  Price  Journey_Date  Journey_Month  \\\n",
       "0        non-stop         no info   3897            24              3   \n",
       "1         2 stops         no info   7662             1              5   \n",
       "2         2 stops         no info  13882             9              6   \n",
       "3          1 stop         no info   6218            12              5   \n",
       "4          1 stop         no info  13302             1              3   \n",
       "...           ...             ...    ...           ...            ...   \n",
       "10678    non-stop         no info   4107             9              4   \n",
       "10679    non-stop         no info   4145            27              4   \n",
       "10680    non-stop         no info   7229            27              4   \n",
       "10681    non-stop         no info  12648             1              3   \n",
       "10682     2 stops         no info  11753             9              5   \n",
       "\n",
       "       Dep_Hour  Dep_Min  Arrival_Hour  Arrival_Min  \n",
       "0            22       20             1           10  \n",
       "1             5       50            13           15  \n",
       "2             9       25             4           25  \n",
       "3            18        5            23           30  \n",
       "4            16       50            21           35  \n",
       "...         ...      ...           ...          ...  \n",
       "10678        19       55            22           25  \n",
       "10679        20       45            23           20  \n",
       "10680         8       20            11           20  \n",
       "10681        11       30            14           10  \n",
       "10682        10       55            19           15  \n",
       "\n",
       "[10682 rows x 14 columns]"
      ]
     },
     "execution_count": 183,
     "metadata": {},
     "output_type": "execute_result"
    }
   ],
   "source": [
    "df"
   ]
  },
  {
   "cell_type": "markdown",
   "id": "9714fce9",
   "metadata": {},
   "source": [
    "**Observation:**\n",
    "- Following Columns are Categorical in nature:\n",
    "1. Airline\n",
    "2. Source\n",
    "3. Destination\n",
    "4. Route\n",
    "5. Total_Stops\n",
    "6. Additional_Info\n",
    "- These columns need to be handled and converted to numeric type"
   ]
  },
  {
   "cell_type": "markdown",
   "id": "fe75ecfc",
   "metadata": {},
   "source": [
    "##### Using Label Encoder to convert Categorical Data to Numeric Data"
   ]
  },
  {
   "cell_type": "code",
   "execution_count": 186,
   "id": "e1e4fc10",
   "metadata": {},
   "outputs": [],
   "source": [
    "from sklearn.preprocessing import LabelEncoder\n",
    "\n",
    "le = LabelEncoder()"
   ]
  },
  {
   "cell_type": "code",
   "execution_count": 188,
   "id": "b62125f6",
   "metadata": {},
   "outputs": [],
   "source": [
    "# Creating a Function to encode Categorical Data\n",
    "\n",
    "def encode(columns,data):\n",
    "    \n",
    "    for column in columns:\n",
    "        data[column] = le.fit_transform(data[column])\n",
    "        \n",
    "    return df"
   ]
  },
  {
   "cell_type": "code",
   "execution_count": 190,
   "id": "2ecd2ae8",
   "metadata": {},
   "outputs": [],
   "source": [
    "# Passing the Categorical Columns to the 'encode' function\n",
    "\n",
    "obj = df[['Airline', 'Source', 'Destination', 'Route', 'Total_Stops', 'Additional_Info']]"
   ]
  },
  {
   "cell_type": "code",
   "execution_count": 192,
   "id": "7db5b816",
   "metadata": {},
   "outputs": [],
   "source": [
    "# Calling the 'encode' function and including the values in the Data Set\n",
    "\n",
    "df = encode(obj, df)"
   ]
  },
  {
   "cell_type": "code",
   "execution_count": 194,
   "id": "69cd9f82",
   "metadata": {},
   "outputs": [
    {
     "data": {
      "text/html": [
       "<div>\n",
       "<style scoped>\n",
       "    .dataframe tbody tr th:only-of-type {\n",
       "        vertical-align: middle;\n",
       "    }\n",
       "\n",
       "    .dataframe tbody tr th {\n",
       "        vertical-align: top;\n",
       "    }\n",
       "\n",
       "    .dataframe thead th {\n",
       "        text-align: right;\n",
       "    }\n",
       "</style>\n",
       "<table border=\"1\" class=\"dataframe\">\n",
       "  <thead>\n",
       "    <tr style=\"text-align: right;\">\n",
       "      <th></th>\n",
       "      <th>Airline</th>\n",
       "      <th>Source</th>\n",
       "      <th>Destination</th>\n",
       "      <th>Route</th>\n",
       "      <th>Duration</th>\n",
       "      <th>Total_Stops</th>\n",
       "      <th>Additional_Info</th>\n",
       "      <th>Price</th>\n",
       "      <th>Journey_Date</th>\n",
       "      <th>Journey_Month</th>\n",
       "      <th>Dep_Hour</th>\n",
       "      <th>Dep_Min</th>\n",
       "      <th>Arrival_Hour</th>\n",
       "      <th>Arrival_Min</th>\n",
       "    </tr>\n",
       "  </thead>\n",
       "  <tbody>\n",
       "    <tr>\n",
       "      <th>0</th>\n",
       "      <td>3</td>\n",
       "      <td>0</td>\n",
       "      <td>5</td>\n",
       "      <td>18</td>\n",
       "      <td>170</td>\n",
       "      <td>4</td>\n",
       "      <td>7</td>\n",
       "      <td>3897</td>\n",
       "      <td>24</td>\n",
       "      <td>3</td>\n",
       "      <td>22</td>\n",
       "      <td>20</td>\n",
       "      <td>1</td>\n",
       "      <td>10</td>\n",
       "    </tr>\n",
       "    <tr>\n",
       "      <th>1</th>\n",
       "      <td>1</td>\n",
       "      <td>3</td>\n",
       "      <td>0</td>\n",
       "      <td>84</td>\n",
       "      <td>445</td>\n",
       "      <td>1</td>\n",
       "      <td>7</td>\n",
       "      <td>7662</td>\n",
       "      <td>1</td>\n",
       "      <td>5</td>\n",
       "      <td>5</td>\n",
       "      <td>50</td>\n",
       "      <td>13</td>\n",
       "      <td>15</td>\n",
       "    </tr>\n",
       "    <tr>\n",
       "      <th>2</th>\n",
       "      <td>4</td>\n",
       "      <td>2</td>\n",
       "      <td>1</td>\n",
       "      <td>118</td>\n",
       "      <td>1140</td>\n",
       "      <td>1</td>\n",
       "      <td>7</td>\n",
       "      <td>13882</td>\n",
       "      <td>9</td>\n",
       "      <td>6</td>\n",
       "      <td>9</td>\n",
       "      <td>25</td>\n",
       "      <td>4</td>\n",
       "      <td>25</td>\n",
       "    </tr>\n",
       "    <tr>\n",
       "      <th>3</th>\n",
       "      <td>3</td>\n",
       "      <td>3</td>\n",
       "      <td>0</td>\n",
       "      <td>91</td>\n",
       "      <td>325</td>\n",
       "      <td>0</td>\n",
       "      <td>7</td>\n",
       "      <td>6218</td>\n",
       "      <td>12</td>\n",
       "      <td>5</td>\n",
       "      <td>18</td>\n",
       "      <td>5</td>\n",
       "      <td>23</td>\n",
       "      <td>30</td>\n",
       "    </tr>\n",
       "    <tr>\n",
       "      <th>4</th>\n",
       "      <td>3</td>\n",
       "      <td>0</td>\n",
       "      <td>5</td>\n",
       "      <td>29</td>\n",
       "      <td>285</td>\n",
       "      <td>0</td>\n",
       "      <td>7</td>\n",
       "      <td>13302</td>\n",
       "      <td>1</td>\n",
       "      <td>3</td>\n",
       "      <td>16</td>\n",
       "      <td>50</td>\n",
       "      <td>21</td>\n",
       "      <td>35</td>\n",
       "    </tr>\n",
       "    <tr>\n",
       "      <th>...</th>\n",
       "      <td>...</td>\n",
       "      <td>...</td>\n",
       "      <td>...</td>\n",
       "      <td>...</td>\n",
       "      <td>...</td>\n",
       "      <td>...</td>\n",
       "      <td>...</td>\n",
       "      <td>...</td>\n",
       "      <td>...</td>\n",
       "      <td>...</td>\n",
       "      <td>...</td>\n",
       "      <td>...</td>\n",
       "      <td>...</td>\n",
       "      <td>...</td>\n",
       "    </tr>\n",
       "    <tr>\n",
       "      <th>10678</th>\n",
       "      <td>0</td>\n",
       "      <td>3</td>\n",
       "      <td>0</td>\n",
       "      <td>64</td>\n",
       "      <td>150</td>\n",
       "      <td>4</td>\n",
       "      <td>7</td>\n",
       "      <td>4107</td>\n",
       "      <td>9</td>\n",
       "      <td>4</td>\n",
       "      <td>19</td>\n",
       "      <td>55</td>\n",
       "      <td>22</td>\n",
       "      <td>25</td>\n",
       "    </tr>\n",
       "    <tr>\n",
       "      <th>10679</th>\n",
       "      <td>1</td>\n",
       "      <td>3</td>\n",
       "      <td>0</td>\n",
       "      <td>64</td>\n",
       "      <td>155</td>\n",
       "      <td>4</td>\n",
       "      <td>7</td>\n",
       "      <td>4145</td>\n",
       "      <td>27</td>\n",
       "      <td>4</td>\n",
       "      <td>20</td>\n",
       "      <td>45</td>\n",
       "      <td>23</td>\n",
       "      <td>20</td>\n",
       "    </tr>\n",
       "    <tr>\n",
       "      <th>10680</th>\n",
       "      <td>4</td>\n",
       "      <td>0</td>\n",
       "      <td>2</td>\n",
       "      <td>18</td>\n",
       "      <td>180</td>\n",
       "      <td>4</td>\n",
       "      <td>7</td>\n",
       "      <td>7229</td>\n",
       "      <td>27</td>\n",
       "      <td>4</td>\n",
       "      <td>8</td>\n",
       "      <td>20</td>\n",
       "      <td>11</td>\n",
       "      <td>20</td>\n",
       "    </tr>\n",
       "    <tr>\n",
       "      <th>10681</th>\n",
       "      <td>10</td>\n",
       "      <td>0</td>\n",
       "      <td>5</td>\n",
       "      <td>18</td>\n",
       "      <td>160</td>\n",
       "      <td>4</td>\n",
       "      <td>7</td>\n",
       "      <td>12648</td>\n",
       "      <td>1</td>\n",
       "      <td>3</td>\n",
       "      <td>11</td>\n",
       "      <td>30</td>\n",
       "      <td>14</td>\n",
       "      <td>10</td>\n",
       "    </tr>\n",
       "    <tr>\n",
       "      <th>10682</th>\n",
       "      <td>1</td>\n",
       "      <td>2</td>\n",
       "      <td>1</td>\n",
       "      <td>108</td>\n",
       "      <td>500</td>\n",
       "      <td>1</td>\n",
       "      <td>7</td>\n",
       "      <td>11753</td>\n",
       "      <td>9</td>\n",
       "      <td>5</td>\n",
       "      <td>10</td>\n",
       "      <td>55</td>\n",
       "      <td>19</td>\n",
       "      <td>15</td>\n",
       "    </tr>\n",
       "  </tbody>\n",
       "</table>\n",
       "<p>10682 rows × 14 columns</p>\n",
       "</div>"
      ],
      "text/plain": [
       "       Airline  Source  Destination  Route  Duration  Total_Stops  \\\n",
       "0            3       0            5     18       170            4   \n",
       "1            1       3            0     84       445            1   \n",
       "2            4       2            1    118      1140            1   \n",
       "3            3       3            0     91       325            0   \n",
       "4            3       0            5     29       285            0   \n",
       "...        ...     ...          ...    ...       ...          ...   \n",
       "10678        0       3            0     64       150            4   \n",
       "10679        1       3            0     64       155            4   \n",
       "10680        4       0            2     18       180            4   \n",
       "10681       10       0            5     18       160            4   \n",
       "10682        1       2            1    108       500            1   \n",
       "\n",
       "       Additional_Info  Price  Journey_Date  Journey_Month  Dep_Hour  Dep_Min  \\\n",
       "0                    7   3897            24              3        22       20   \n",
       "1                    7   7662             1              5         5       50   \n",
       "2                    7  13882             9              6         9       25   \n",
       "3                    7   6218            12              5        18        5   \n",
       "4                    7  13302             1              3        16       50   \n",
       "...                ...    ...           ...            ...       ...      ...   \n",
       "10678                7   4107             9              4        19       55   \n",
       "10679                7   4145            27              4        20       45   \n",
       "10680                7   7229            27              4         8       20   \n",
       "10681                7  12648             1              3        11       30   \n",
       "10682                7  11753             9              5        10       55   \n",
       "\n",
       "       Arrival_Hour  Arrival_Min  \n",
       "0                 1           10  \n",
       "1                13           15  \n",
       "2                 4           25  \n",
       "3                23           30  \n",
       "4                21           35  \n",
       "...             ...          ...  \n",
       "10678            22           25  \n",
       "10679            23           20  \n",
       "10680            11           20  \n",
       "10681            14           10  \n",
       "10682            19           15  \n",
       "\n",
       "[10682 rows x 14 columns]"
      ]
     },
     "execution_count": 194,
     "metadata": {},
     "output_type": "execute_result"
    }
   ],
   "source": [
    "df"
   ]
  },
  {
   "cell_type": "markdown",
   "id": "a2ef93cc",
   "metadata": {},
   "source": [
    "##### Scaling Data"
   ]
  },
  {
   "cell_type": "code",
   "execution_count": 197,
   "id": "5f94121c",
   "metadata": {},
   "outputs": [
    {
     "data": {
      "text/html": [
       "<div>\n",
       "<style scoped>\n",
       "    .dataframe tbody tr th:only-of-type {\n",
       "        vertical-align: middle;\n",
       "    }\n",
       "\n",
       "    .dataframe tbody tr th {\n",
       "        vertical-align: top;\n",
       "    }\n",
       "\n",
       "    .dataframe thead th {\n",
       "        text-align: right;\n",
       "    }\n",
       "</style>\n",
       "<table border=\"1\" class=\"dataframe\">\n",
       "  <thead>\n",
       "    <tr style=\"text-align: right;\">\n",
       "      <th></th>\n",
       "      <th>Airline</th>\n",
       "      <th>Source</th>\n",
       "      <th>Destination</th>\n",
       "      <th>Route</th>\n",
       "      <th>Duration</th>\n",
       "      <th>Total_Stops</th>\n",
       "      <th>Additional_Info</th>\n",
       "      <th>Journey_Date</th>\n",
       "      <th>Journey_Month</th>\n",
       "      <th>Dep_Hour</th>\n",
       "      <th>Dep_Min</th>\n",
       "      <th>Arrival_Hour</th>\n",
       "      <th>Arrival_Min</th>\n",
       "    </tr>\n",
       "  </thead>\n",
       "  <tbody>\n",
       "    <tr>\n",
       "      <th>0</th>\n",
       "      <td>3</td>\n",
       "      <td>0</td>\n",
       "      <td>5</td>\n",
       "      <td>18</td>\n",
       "      <td>170</td>\n",
       "      <td>4</td>\n",
       "      <td>7</td>\n",
       "      <td>24</td>\n",
       "      <td>3</td>\n",
       "      <td>22</td>\n",
       "      <td>20</td>\n",
       "      <td>1</td>\n",
       "      <td>10</td>\n",
       "    </tr>\n",
       "    <tr>\n",
       "      <th>1</th>\n",
       "      <td>1</td>\n",
       "      <td>3</td>\n",
       "      <td>0</td>\n",
       "      <td>84</td>\n",
       "      <td>445</td>\n",
       "      <td>1</td>\n",
       "      <td>7</td>\n",
       "      <td>1</td>\n",
       "      <td>5</td>\n",
       "      <td>5</td>\n",
       "      <td>50</td>\n",
       "      <td>13</td>\n",
       "      <td>15</td>\n",
       "    </tr>\n",
       "    <tr>\n",
       "      <th>2</th>\n",
       "      <td>4</td>\n",
       "      <td>2</td>\n",
       "      <td>1</td>\n",
       "      <td>118</td>\n",
       "      <td>1140</td>\n",
       "      <td>1</td>\n",
       "      <td>7</td>\n",
       "      <td>9</td>\n",
       "      <td>6</td>\n",
       "      <td>9</td>\n",
       "      <td>25</td>\n",
       "      <td>4</td>\n",
       "      <td>25</td>\n",
       "    </tr>\n",
       "    <tr>\n",
       "      <th>3</th>\n",
       "      <td>3</td>\n",
       "      <td>3</td>\n",
       "      <td>0</td>\n",
       "      <td>91</td>\n",
       "      <td>325</td>\n",
       "      <td>0</td>\n",
       "      <td>7</td>\n",
       "      <td>12</td>\n",
       "      <td>5</td>\n",
       "      <td>18</td>\n",
       "      <td>5</td>\n",
       "      <td>23</td>\n",
       "      <td>30</td>\n",
       "    </tr>\n",
       "    <tr>\n",
       "      <th>4</th>\n",
       "      <td>3</td>\n",
       "      <td>0</td>\n",
       "      <td>5</td>\n",
       "      <td>29</td>\n",
       "      <td>285</td>\n",
       "      <td>0</td>\n",
       "      <td>7</td>\n",
       "      <td>1</td>\n",
       "      <td>3</td>\n",
       "      <td>16</td>\n",
       "      <td>50</td>\n",
       "      <td>21</td>\n",
       "      <td>35</td>\n",
       "    </tr>\n",
       "    <tr>\n",
       "      <th>...</th>\n",
       "      <td>...</td>\n",
       "      <td>...</td>\n",
       "      <td>...</td>\n",
       "      <td>...</td>\n",
       "      <td>...</td>\n",
       "      <td>...</td>\n",
       "      <td>...</td>\n",
       "      <td>...</td>\n",
       "      <td>...</td>\n",
       "      <td>...</td>\n",
       "      <td>...</td>\n",
       "      <td>...</td>\n",
       "      <td>...</td>\n",
       "    </tr>\n",
       "    <tr>\n",
       "      <th>10678</th>\n",
       "      <td>0</td>\n",
       "      <td>3</td>\n",
       "      <td>0</td>\n",
       "      <td>64</td>\n",
       "      <td>150</td>\n",
       "      <td>4</td>\n",
       "      <td>7</td>\n",
       "      <td>9</td>\n",
       "      <td>4</td>\n",
       "      <td>19</td>\n",
       "      <td>55</td>\n",
       "      <td>22</td>\n",
       "      <td>25</td>\n",
       "    </tr>\n",
       "    <tr>\n",
       "      <th>10679</th>\n",
       "      <td>1</td>\n",
       "      <td>3</td>\n",
       "      <td>0</td>\n",
       "      <td>64</td>\n",
       "      <td>155</td>\n",
       "      <td>4</td>\n",
       "      <td>7</td>\n",
       "      <td>27</td>\n",
       "      <td>4</td>\n",
       "      <td>20</td>\n",
       "      <td>45</td>\n",
       "      <td>23</td>\n",
       "      <td>20</td>\n",
       "    </tr>\n",
       "    <tr>\n",
       "      <th>10680</th>\n",
       "      <td>4</td>\n",
       "      <td>0</td>\n",
       "      <td>2</td>\n",
       "      <td>18</td>\n",
       "      <td>180</td>\n",
       "      <td>4</td>\n",
       "      <td>7</td>\n",
       "      <td>27</td>\n",
       "      <td>4</td>\n",
       "      <td>8</td>\n",
       "      <td>20</td>\n",
       "      <td>11</td>\n",
       "      <td>20</td>\n",
       "    </tr>\n",
       "    <tr>\n",
       "      <th>10681</th>\n",
       "      <td>10</td>\n",
       "      <td>0</td>\n",
       "      <td>5</td>\n",
       "      <td>18</td>\n",
       "      <td>160</td>\n",
       "      <td>4</td>\n",
       "      <td>7</td>\n",
       "      <td>1</td>\n",
       "      <td>3</td>\n",
       "      <td>11</td>\n",
       "      <td>30</td>\n",
       "      <td>14</td>\n",
       "      <td>10</td>\n",
       "    </tr>\n",
       "    <tr>\n",
       "      <th>10682</th>\n",
       "      <td>1</td>\n",
       "      <td>2</td>\n",
       "      <td>1</td>\n",
       "      <td>108</td>\n",
       "      <td>500</td>\n",
       "      <td>1</td>\n",
       "      <td>7</td>\n",
       "      <td>9</td>\n",
       "      <td>5</td>\n",
       "      <td>10</td>\n",
       "      <td>55</td>\n",
       "      <td>19</td>\n",
       "      <td>15</td>\n",
       "    </tr>\n",
       "  </tbody>\n",
       "</table>\n",
       "<p>10682 rows × 13 columns</p>\n",
       "</div>"
      ],
      "text/plain": [
       "       Airline  Source  Destination  Route  Duration  Total_Stops  \\\n",
       "0            3       0            5     18       170            4   \n",
       "1            1       3            0     84       445            1   \n",
       "2            4       2            1    118      1140            1   \n",
       "3            3       3            0     91       325            0   \n",
       "4            3       0            5     29       285            0   \n",
       "...        ...     ...          ...    ...       ...          ...   \n",
       "10678        0       3            0     64       150            4   \n",
       "10679        1       3            0     64       155            4   \n",
       "10680        4       0            2     18       180            4   \n",
       "10681       10       0            5     18       160            4   \n",
       "10682        1       2            1    108       500            1   \n",
       "\n",
       "       Additional_Info  Journey_Date  Journey_Month  Dep_Hour  Dep_Min  \\\n",
       "0                    7            24              3        22       20   \n",
       "1                    7             1              5         5       50   \n",
       "2                    7             9              6         9       25   \n",
       "3                    7            12              5        18        5   \n",
       "4                    7             1              3        16       50   \n",
       "...                ...           ...            ...       ...      ...   \n",
       "10678                7             9              4        19       55   \n",
       "10679                7            27              4        20       45   \n",
       "10680                7            27              4         8       20   \n",
       "10681                7             1              3        11       30   \n",
       "10682                7             9              5        10       55   \n",
       "\n",
       "       Arrival_Hour  Arrival_Min  \n",
       "0                 1           10  \n",
       "1                13           15  \n",
       "2                 4           25  \n",
       "3                23           30  \n",
       "4                21           35  \n",
       "...             ...          ...  \n",
       "10678            22           25  \n",
       "10679            23           20  \n",
       "10680            11           20  \n",
       "10681            14           10  \n",
       "10682            19           15  \n",
       "\n",
       "[10682 rows x 13 columns]"
      ]
     },
     "execution_count": 197,
     "metadata": {},
     "output_type": "execute_result"
    }
   ],
   "source": [
    "x = df.drop('Price', axis = 1)\n",
    "x"
   ]
  },
  {
   "cell_type": "code",
   "execution_count": 199,
   "id": "010e4693",
   "metadata": {},
   "outputs": [
    {
     "data": {
      "text/plain": [
       "0         3897\n",
       "1         7662\n",
       "2        13882\n",
       "3         6218\n",
       "4        13302\n",
       "         ...  \n",
       "10678     4107\n",
       "10679     4145\n",
       "10680     7229\n",
       "10681    12648\n",
       "10682    11753\n",
       "Name: Price, Length: 10682, dtype: int64"
      ]
     },
     "execution_count": 199,
     "metadata": {},
     "output_type": "execute_result"
    }
   ],
   "source": [
    "y = df.Price\n",
    "y"
   ]
  },
  {
   "cell_type": "markdown",
   "id": "3f3f772f",
   "metadata": {},
   "source": [
    "##### MinMax Scalar"
   ]
  },
  {
   "cell_type": "code",
   "execution_count": 202,
   "id": "d84f8558",
   "metadata": {},
   "outputs": [],
   "source": [
    "from sklearn.preprocessing import MinMaxScaler\n",
    "\n",
    "scaler = MinMaxScaler()\n",
    "x_scaled = scaler.fit_transform(x)"
   ]
  },
  {
   "cell_type": "code",
   "execution_count": 204,
   "id": "0afaef62",
   "metadata": {
    "scrolled": true
   },
   "outputs": [
    {
     "data": {
      "text/plain": [
       "array([[0.27272727, 0.        , 1.        , ..., 0.36363636, 0.04347826,\n",
       "        0.18181818],\n",
       "       [0.09090909, 0.75      , 0.        , ..., 0.90909091, 0.56521739,\n",
       "        0.27272727],\n",
       "       [0.36363636, 0.5       , 0.2       , ..., 0.45454545, 0.17391304,\n",
       "        0.45454545],\n",
       "       ...,\n",
       "       [0.36363636, 0.        , 0.4       , ..., 0.36363636, 0.47826087,\n",
       "        0.36363636],\n",
       "       [0.90909091, 0.        , 1.        , ..., 0.54545455, 0.60869565,\n",
       "        0.18181818],\n",
       "       [0.09090909, 0.5       , 0.2       , ..., 1.        , 0.82608696,\n",
       "        0.27272727]])"
      ]
     },
     "execution_count": 204,
     "metadata": {},
     "output_type": "execute_result"
    }
   ],
   "source": [
    "x_scaled"
   ]
  },
  {
   "cell_type": "markdown",
   "id": "2232d87d",
   "metadata": {},
   "source": [
    "**Business case 2:**\n",
    "To Create a Predictive Model which will help the Customers to Predict the Future Flight Prices and Plan their Journey accordingly."
   ]
  },
  {
   "cell_type": "markdown",
   "id": "4878d280",
   "metadata": {},
   "source": [
    "### Model Creation"
   ]
  },
  {
   "cell_type": "markdown",
   "id": "d7304197",
   "metadata": {},
   "source": [
    "##### Creating Training Data and Testing Data Set"
   ]
  },
  {
   "cell_type": "code",
   "execution_count": 209,
   "id": "72e8474f",
   "metadata": {},
   "outputs": [],
   "source": [
    "from sklearn.model_selection import train_test_split\n",
    "\n",
    "x_train, x_test, y_train, y_test = train_test_split(x_scaled, y, test_size = 0.25, random_state = 42)"
   ]
  },
  {
   "cell_type": "code",
   "execution_count": 211,
   "id": "f38990f4",
   "metadata": {},
   "outputs": [
    {
     "data": {
      "text/plain": [
       "(8011, 13)"
      ]
     },
     "execution_count": 211,
     "metadata": {},
     "output_type": "execute_result"
    }
   ],
   "source": [
    "x_train.shape"
   ]
  },
  {
   "cell_type": "code",
   "execution_count": 213,
   "id": "3135defb",
   "metadata": {},
   "outputs": [
    {
     "data": {
      "text/plain": [
       "(8011,)"
      ]
     },
     "execution_count": 213,
     "metadata": {},
     "output_type": "execute_result"
    }
   ],
   "source": [
    "y_train.shape"
   ]
  },
  {
   "cell_type": "code",
   "execution_count": 215,
   "id": "050d1eac",
   "metadata": {},
   "outputs": [
    {
     "data": {
      "text/plain": [
       "(2671, 13)"
      ]
     },
     "execution_count": 215,
     "metadata": {},
     "output_type": "execute_result"
    }
   ],
   "source": [
    "x_test.shape"
   ]
  },
  {
   "cell_type": "code",
   "execution_count": 217,
   "id": "6b2adf3b",
   "metadata": {},
   "outputs": [
    {
     "data": {
      "text/plain": [
       "(2671,)"
      ]
     },
     "execution_count": 217,
     "metadata": {},
     "output_type": "execute_result"
    }
   ],
   "source": [
    "y_test.shape"
   ]
  },
  {
   "cell_type": "markdown",
   "id": "55a3dc26",
   "metadata": {},
   "source": [
    "##### Defining a Function for Model Building and  its Evaluation"
   ]
  },
  {
   "cell_type": "code",
   "execution_count": 220,
   "id": "85476486",
   "metadata": {},
   "outputs": [],
   "source": [
    "from sklearn.metrics import mean_squared_error, mean_absolute_error, r2_score\n",
    "\n",
    "def evaluation_score(model):\n",
    "    model.fit(x_train, y_train)\n",
    "    y_pred = model.predict(x_test)\n",
    "    \n",
    "    mse = mean_squared_error(y_test, y_pred)\n",
    "    mae = mean_absolute_error(y_test, y_pred)\n",
    "    r2 = r2_score(y_test, y_pred)\n",
    "    adj_r = 1 - (1 - r2) * (len(y_test) - 1) / (len(y_test) - x_test.shape[1] - 1)\n",
    "    \n",
    "    evaluation = {\n",
    "        ('The Mean Squared Error for this alogorithm is:',mse),\n",
    "        ('The Mean Absolute Error for this alogorithm is:',mae),\n",
    "        ('The R2 score for this alogorithm is:',r2), \n",
    "        ('The Adjusted R2 score for this alogorithm is:',adj_r)\n",
    "    }\n",
    "    \n",
    "    return evaluation"
   ]
  },
  {
   "cell_type": "markdown",
   "id": "08c5ddc8",
   "metadata": {},
   "source": [
    "#### 1. LINEAR REGRESSION ALGORITHM"
   ]
  },
  {
   "cell_type": "code",
   "execution_count": 223,
   "id": "91995a37",
   "metadata": {},
   "outputs": [],
   "source": [
    "from sklearn.linear_model import LinearRegression\n",
    "\n",
    "lr = LinearRegression()"
   ]
  },
  {
   "cell_type": "code",
   "execution_count": 225,
   "id": "f035acd4",
   "metadata": {},
   "outputs": [
    {
     "data": {
      "text/plain": [
       "{('The Adjusted R2 score for this alogorithm is:', 0.4387158991193295),\n",
       " ('The Mean Absolute Error for this alogorithm is:', 2457.081071512825),\n",
       " ('The Mean Squared Error for this alogorithm is:', 11513431.815511968),\n",
       " ('The R2 score for this alogorithm is:', 0.44144874305620163)}"
      ]
     },
     "execution_count": 225,
     "metadata": {},
     "output_type": "execute_result"
    }
   ],
   "source": [
    "evaluation_score(lr)"
   ]
  },
  {
   "cell_type": "markdown",
   "id": "6f66e46f",
   "metadata": {},
   "source": [
    "#### 2. SUPPORT VECTOR MACHINE ALGORITHM"
   ]
  },
  {
   "cell_type": "code",
   "execution_count": 228,
   "id": "b70cb28e",
   "metadata": {},
   "outputs": [],
   "source": [
    "from sklearn.svm import SVC"
   ]
  },
  {
   "cell_type": "code",
   "execution_count": 230,
   "id": "383028ae",
   "metadata": {},
   "outputs": [
    {
     "data": {
      "text/plain": [
       "{('The Adjusted R2 score for this alogorithm is:', 0.45080270436909853),\n",
       " ('The Mean Absolute Error for this alogorithm is:', 1818.2583302134033),\n",
       " ('The Mean Squared Error for this alogorithm is:', 11265499.24822164),\n",
       " ('The R2 score for this alogorithm is:', 0.45347669869239504)}"
      ]
     },
     "execution_count": 230,
     "metadata": {},
     "output_type": "execute_result"
    }
   ],
   "source": [
    "evaluation_score(SVC())"
   ]
  },
  {
   "cell_type": "markdown",
   "id": "7f2cb4a2",
   "metadata": {},
   "source": [
    "#### 3. K-NEAREST NEIGHBOURS ALGORITHM"
   ]
  },
  {
   "cell_type": "code",
   "execution_count": 167,
   "id": "8f84261c",
   "metadata": {},
   "outputs": [],
   "source": [
    "from sklearn.neighbors import KNeighborsRegressor"
   ]
  },
  {
   "cell_type": "code",
   "execution_count": 168,
   "id": "22f8be7f",
   "metadata": {},
   "outputs": [],
   "source": [
    "ERROR_RATE = []\n",
    "\n",
    "for i in range(1, 13):\n",
    "    KNN = KNeighborsRegressor(i)\n",
    "    KNN.fit(x_train, y_train)\n",
    "    y_pred = KNN.predict(x_test)\n",
    "    error_rate = (y_test != y_pred).sum()/len(y_test)\n",
    "    ERROR_RATE.append(error_rate)"
   ]
  },
  {
   "cell_type": "code",
   "execution_count": 169,
   "id": "14ec8d73",
   "metadata": {},
   "outputs": [
    {
     "data": {
      "text/plain": [
       "[0.5705728191688506,\n",
       " 0.7854736053912392,\n",
       " 0.8794459004118308,\n",
       " 0.9251216772744291,\n",
       " 0.9472107824784725,\n",
       " 0.9625608386372145,\n",
       " 0.9752901535005616,\n",
       " 0.9850243354548858,\n",
       " 0.98951703481842,\n",
       " 0.9917633845001872,\n",
       " 0.9940097341819544,\n",
       " 0.9958816922500936]"
      ]
     },
     "execution_count": 169,
     "metadata": {},
     "output_type": "execute_result"
    }
   ],
   "source": [
    "ERROR_RATE"
   ]
  },
  {
   "cell_type": "code",
   "execution_count": 170,
   "id": "6bb4528b",
   "metadata": {},
   "outputs": [
    {
     "data": {
      "image/png": "[encoded data removed]",
      "text/plain": [
       "<Figure size 720x432 with 1 Axes>"
      ]
     },
     "metadata": {
      "needs_background": "light"
     },
     "output_type": "display_data"
    }
   ],
   "source": [
    "plt.figure(figsize = (10, 6))\n",
    "plt.plot(range(1, 13), ERROR_RATE, marker = 'o', linestyle = 'dashed', markerfacecolor = 'red', markersize = 10)\n",
    "plt.title('Error Rate vs. K Value')\n",
    "plt.xlabel('K')\n",
    "plt.ylabel('Error Rate')\n",
    "plt.show()"
   ]
  },
  {
   "cell_type": "code",
   "execution_count": 171,
   "id": "5f8efb49",
   "metadata": {},
   "outputs": [],
   "source": [
    "KNN = KNeighborsRegressor(n_neighbors = 5)"
   ]
  },
  {
   "cell_type": "code",
   "execution_count": 172,
   "id": "3ecb87d6",
   "metadata": {},
   "outputs": [
    {
     "data": {
      "text/plain": [
       "{('The Adjusted R2 score for this alogorithm is   :', 0.7702120167516877),\n",
       " ('The Mean Absolute Error for this alogorithm is :', 1325.6563833770124),\n",
       " ('The Mean Squared Error for this alogorithm is  :', 4713563.546521901),\n",
       " ('The R2 score for this alogorithm is            :', 0.7713308346476533)}"
      ]
     },
     "execution_count": 172,
     "metadata": {},
     "output_type": "execute_result"
    }
   ],
   "source": [
    "evaluation_score(KNN)"
   ]
  },
  {
   "cell_type": "markdown",
   "id": "cf9b239a",
   "metadata": {},
   "source": [
    "#### 4. DECISION TREE ALGORITHM"
   ]
  },
  {
   "cell_type": "code",
   "execution_count": 173,
   "id": "628887da",
   "metadata": {},
   "outputs": [],
   "source": [
    "from sklearn.tree import DecisionTreeRegressor\n",
    "dtr = DecisionTreeRegressor(max_depth = 10, criterion = 'absolute_error')"
   ]
  },
  {
   "cell_type": "code",
   "execution_count": 174,
   "id": "a249b7b1",
   "metadata": {},
   "outputs": [
    {
     "data": {
      "text/plain": [
       "{('The Adjusted R2 score for this alogorithm is   :', 0.7685350462714728),\n",
       " ('The Mean Absolute Error for this alogorithm is :', 874.2875327592662),\n",
       " ('The Mean Squared Error for this alogorithm is  :', 4747962.677461625),\n",
       " ('The R2 score for this alogorithm is            :', 0.7696620291922485)}"
      ]
     },
     "execution_count": 174,
     "metadata": {},
     "output_type": "execute_result"
    }
   ],
   "source": [
    "evaluation_score(dtr)"
   ]
  },
  {
   "cell_type": "markdown",
   "id": "3bb259ee",
   "metadata": {},
   "source": [
    "##### Hyperparameter Tuning for Decision Tree Algorithm"
   ]
  },
  {
   "cell_type": "code",
   "execution_count": 175,
   "id": "9b0c63a6",
   "metadata": {},
   "outputs": [
    {
     "name": "stdout",
     "output_type": "stream",
     "text": [
      "Best Hyperparameters: {'max_depth': None, 'max_features': 'auto', 'min_samples_leaf': 4, 'min_samples_split': 5}\n"
     ]
    }
   ],
   "source": [
    "from sklearn.model_selection import GridSearchCV\n",
    "\n",
    "param_grid = {\n",
    "    'max_depth': [None, 5, 10, 15],\n",
    "    'min_samples_split': [2, 5, 10],\n",
    "    'min_samples_leaf': [1, 2, 4],\n",
    "    'max_features': ['auto', 'sqrt', 'log2']\n",
    "}\n",
    "\n",
    "grid_dtr = GridSearchCV(estimator = dtr, param_grid = param_grid, cv = 5, scoring = 'neg_mean_squared_error', n_jobs = -1)\n",
    "grid_dtr.fit(x_train, y_train)\n",
    "\n",
    "# Best Hyperparameters\n",
    "\n",
    "best_params = grid_dtr.best_params_\n",
    "print(f\"Best Hyperparameters: {best_params}\")\n",
    "\n",
    "# Best Model\n",
    "\n",
    "best_dtr = grid_dtr.best_estimator_\n",
    "\n",
    "y_pred = best_dtr.predict(x_test)"
   ]
  },
  {
   "cell_type": "code",
   "execution_count": 177,
   "id": "53a9898e",
   "metadata": {},
   "outputs": [
    {
     "data": {
      "text/plain": [
       "{('The Adjusted R2 score for this alogorithm is   :', 0.7649100666674818),\n",
       " ('The Mean Absolute Error for this alogorithm is :', 765.4092100336952),\n",
       " ('The Mean Squared Error for this alogorithm is  :', 4822320.663796331),\n",
       " ('The R2 score for this alogorithm is            :', 0.7660546993016851)}"
      ]
     },
     "execution_count": 177,
     "metadata": {},
     "output_type": "execute_result"
    }
   ],
   "source": [
    "evaluation_score(grid_dtr)"
   ]
  },
  {
   "cell_type": "markdown",
   "id": "eda86cbd",
   "metadata": {},
   "source": [
    "#### 5. RANDOM FOREST ALGORITHM"
   ]
  },
  {
   "cell_type": "code",
   "execution_count": 178,
   "id": "4aa93662",
   "metadata": {},
   "outputs": [],
   "source": [
    "from sklearn.ensemble import RandomForestRegressor"
   ]
  },
  {
   "cell_type": "code",
   "execution_count": 179,
   "id": "06479be3",
   "metadata": {},
   "outputs": [],
   "source": [
    "rfr = RandomForestRegressor()"
   ]
  },
  {
   "cell_type": "code",
   "execution_count": 180,
   "id": "d8c759f2",
   "metadata": {},
   "outputs": [
    {
     "data": {
      "text/plain": [
       "{('The Adjusted R2 score for this alogorithm is   :', 0.8678814235495437),\n",
       " ('The Mean Absolute Error for this alogorithm is :', 642.4234773568709),\n",
       " ('The Mean Squared Error for this alogorithm is  :', 2710103.8834667243),\n",
       " ('The R2 score for this alogorithm is            :', 0.86852469751728)}"
      ]
     },
     "execution_count": 180,
     "metadata": {},
     "output_type": "execute_result"
    }
   ],
   "source": [
    "evaluation_score(rfr)"
   ]
  },
  {
   "cell_type": "markdown",
   "id": "c3c9a665",
   "metadata": {},
   "source": [
    "##### Hyperparameter Tuning for Random Forest Algorithm"
   ]
  },
  {
   "cell_type": "code",
   "execution_count": 181,
   "id": "207414b0",
   "metadata": {},
   "outputs": [
    {
     "name": "stdout",
     "output_type": "stream",
     "text": [
      "Best Hyperparameters: {'n_estimators': 300, 'min_samples_split': 2, 'min_samples_leaf': 1, 'max_features': 'log2', 'max_depth': None}\n"
     ]
    }
   ],
   "source": [
    "from sklearn.model_selection import RandomizedSearchCV\n",
    "\n",
    "param_dist = {\n",
    "    'n_estimators': [50, 100, 200, 300],\n",
    "    'max_features': ['auto', 'sqrt', 'log2'],\n",
    "    'max_depth': [None, 5, 10, 15],\n",
    "    'min_samples_split': [2, 5, 10],\n",
    "    'min_samples_leaf': [1, 2, 4]\n",
    "}\n",
    "\n",
    "random_rf = RandomizedSearchCV(estimator = rfr, param_distributions = param_dist, n_iter = 10, cv = 5, \n",
    "                               scoring = 'neg_mean_squared_error', n_jobs = -1, random_state = 42)\n",
    "random_rf.fit(x_train, y_train)\n",
    "\n",
    "# Best Hyperparameter\n",
    "\n",
    "best_params = random_rf.best_params_\n",
    "print(f\"Best Hyperparameters: {best_params}\")\n",
    "\n",
    "# Best Model\n",
    "\n",
    "best_rf = random_rf.best_estimator_"
   ]
  },
  {
   "cell_type": "code",
   "execution_count": 182,
   "id": "f3991426",
   "metadata": {},
   "outputs": [
    {
     "data": {
      "text/plain": [
       "{('The Adjusted R2 score for this alogorithm is   :', 0.8885628454742308),\n",
       " ('The Mean Absolute Error for this alogorithm is :', 731.9676509661248),\n",
       " ('The Mean Squared Error for this alogorithm is  :', 2285872.837541654),\n",
       " ('The R2 score for this alogorithm is            :', 0.8891054233801615)}"
      ]
     },
     "execution_count": 182,
     "metadata": {},
     "output_type": "execute_result"
    }
   ],
   "source": [
    "evaluation_score(random_rf)"
   ]
  },
  {
   "cell_type": "markdown",
   "id": "314d39a4",
   "metadata": {},
   "source": [
    "#### 6. XGBOOST ALGORITHM"
   ]
  },
  {
   "cell_type": "code",
   "execution_count": 88,
   "id": "2f45f7ef",
   "metadata": {},
   "outputs": [
    {
     "name": "stdout",
     "output_type": "stream",
     "text": [
      "Collecting xgboost\n",
      "  Downloading xgboost-2.1.2-py3-none-win_amd64.whl.metadata (2.1 kB)\n",
      "Requirement already satisfied: numpy in c:\\anaconda3\\lib\\site-packages (from xgboost) (1.22.4)\n",
      "Requirement already satisfied: scipy in c:\\anaconda3\\lib\\site-packages (from xgboost) (1.7.3)\n",
      "Downloading xgboost-2.1.2-py3-none-win_amd64.whl (124.9 MB)\n",
      "   ---------------------------------------- 124.9/124.9 MB 1.0 MB/s eta 0:00:00\n",
      "Installing collected packages: xgboost\n",
      "Successfully installed xgboost-2.1.2\n"
     ]
    },
    {
     "name": "stderr",
     "output_type": "stream",
     "text": [
      "\n",
      "[notice] A new release of pip is available: 24.2 -> 24.3.1\n",
      "[notice] To update, run: python.exe -m pip install --upgrade pip\n"
     ]
    }
   ],
   "source": [
    "!pip install xgboost"
   ]
  },
  {
   "cell_type": "code",
   "execution_count": 183,
   "id": "3b19c721",
   "metadata": {},
   "outputs": [
    {
     "data": {
      "text/plain": [
       "XGBRegressor(alpha=10, base_score=None, booster=None, callbacks=None,\n",
       "             colsample_bylevel=None, colsample_bynode=None,\n",
       "             colsample_bytree=0.3, device=None, early_stopping_rounds=None,\n",
       "             enable_categorical=False, eval_metric=None, feature_types=None,\n",
       "             gamma=None, grow_policy=None, importance_type=None,\n",
       "             interaction_constraints=None, learning_rate=0.1, max_bin=None,\n",
       "             max_cat_threshold=None, max_cat_to_onehot=None,\n",
       "             max_delta_step=None, max_depth=5, max_leaves=None,\n",
       "             min_child_weight=None, missing=nan, monotone_constraints=None,\n",
       "             multi_strategy=None, n_estimators=100, n_jobs=None,\n",
       "             num_parallel_tree=None, ...)"
      ]
     },
     "execution_count": 183,
     "metadata": {},
     "output_type": "execute_result"
    }
   ],
   "source": [
    "import xgboost as xgb\n",
    "\n",
    "#from xgboost import XGBRegressor\n",
    "\n",
    "xg_reg = xgb.XGBRegressor(objective = 'reg:squarederror', colsample_bytree = 0.3, learning_rate = 0.1, max_depth = 5, \n",
    "                          alpha = 10, n_estimators = 100, random_state = 42)\n",
    "\n",
    "xg_reg.fit(x_train, y_train)"
   ]
  },
  {
   "cell_type": "code",
   "execution_count": 184,
   "id": "4e284c06",
   "metadata": {},
   "outputs": [
    {
     "data": {
      "text/plain": [
       "{('The Adjusted R2 score for this alogorithm is   :', 0.8446434312345099),\n",
       " ('The Mean Absolute Error for this alogorithm is :', 1180.1070535160638),\n",
       " ('The Mean Squared Error for this alogorithm is  :', 3186776.997187102),\n",
       " ('The R2 score for this alogorithm is            :', 0.8453998489850535)}"
      ]
     },
     "execution_count": 184,
     "metadata": {},
     "output_type": "execute_result"
    }
   ],
   "source": [
    "evaluation_score(xg_reg)"
   ]
  },
  {
   "cell_type": "markdown",
   "id": "11dd3c1c",
   "metadata": {},
   "source": [
    "##### Hyperparameter Tuning for XGBoost Algorithm"
   ]
  },
  {
   "cell_type": "code",
   "execution_count": 185,
   "id": "907f3daa",
   "metadata": {},
   "outputs": [
    {
     "name": "stdout",
     "output_type": "stream",
     "text": [
      "Best Hyperparameters: {'subsample': 0.9, 'n_estimators': 300, 'max_depth': 6, 'learning_rate': 0.2, 'colsample_bytree': 0.8, 'alpha': 5}\n"
     ]
    }
   ],
   "source": [
    "param_dist = {\n",
    "    'learning_rate': [0.01, 0.1, 0.2, 0.3],\n",
    "    'max_depth': [3, 4, 5, 6],\n",
    "    'n_estimators': [50, 100, 200, 300],\n",
    "    'subsample': [0.8, 0.9, 1.0],\n",
    "    'colsample_bytree': [0.8, 0.9, 1.0],\n",
    "    'alpha': [0, 1, 5, 10]\n",
    "}\n",
    "\n",
    "# RandomizedSearchCV for hyperparameter tuning\n",
    "\n",
    "random_search_xgb = RandomizedSearchCV(estimator = xg_reg, param_distributions = param_dist, n_iter = 10, cv = 5, \n",
    "                                       scoring = 'neg_mean_squared_error', n_jobs = -1, random_state = 42)\n",
    "random_search_xgb.fit(x_train, y_train)\n",
    "\n",
    "# Best Hyperparameters\n",
    "\n",
    "best_params = random_search_xgb.best_params_\n",
    "print(f\"Best Hyperparameters: {best_params}\")\n",
    "\n",
    "# Best Model\n",
    "\n",
    "best_xg_reg = random_search_xgb.best_estimator_"
   ]
  },
  {
   "cell_type": "code",
   "execution_count": 186,
   "id": "74e7ff12",
   "metadata": {
    "scrolled": true
   },
   "outputs": [
    {
     "data": {
      "text/plain": [
       "{('The Adjusted R2 score for this alogorithm is   :', 0.8948503181013837),\n",
       " ('The Mean Absolute Error for this alogorithm is :', 684.3762063526652),\n",
       " ('The Mean Squared Error for this alogorithm is  :', 2156900.028101585),\n",
       " ('The R2 score for this alogorithm is            :', 0.8953622828447103)}"
      ]
     },
     "execution_count": 186,
     "metadata": {},
     "output_type": "execute_result"
    }
   ],
   "source": [
    "evaluation_score(best_xg_reg)"
   ]
  },
  {
   "cell_type": "markdown",
   "id": "f90ae6e5",
   "metadata": {},
   "source": [
    "#### 7. GRADIENT BOOSTING ALGORITHM"
   ]
  },
  {
   "cell_type": "code",
   "execution_count": 187,
   "id": "4b13e701",
   "metadata": {},
   "outputs": [],
   "source": [
    "from sklearn.ensemble import GradientBoostingRegressor\n",
    "\n",
    "gb_reg = GradientBoostingRegressor(n_estimators=100, learning_rate=0.1, max_depth=3, random_state=42)"
   ]
  },
  {
   "cell_type": "code",
   "execution_count": 188,
   "id": "e86a92c8",
   "metadata": {},
   "outputs": [
    {
     "data": {
      "text/plain": [
       "{('The Adjusted R2 score for this alogorithm is   :', 0.8297695382719292),\n",
       " ('The Mean Absolute Error for this alogorithm is :', 1225.8686638388353),\n",
       " ('The Mean Squared Error for this alogorithm is  :', 3491880.1565090953),\n",
       " ('The R2 score for this alogorithm is            :', 0.8305983757260359)}"
      ]
     },
     "execution_count": 188,
     "metadata": {},
     "output_type": "execute_result"
    }
   ],
   "source": [
    "evaluation_score(gb_reg)"
   ]
  },
  {
   "cell_type": "markdown",
   "id": "3a7428a7",
   "metadata": {},
   "source": [
    "##### Hyperparameter Tuning for Gradient Boosting Algorithm"
   ]
  },
  {
   "cell_type": "code",
   "execution_count": 189,
   "id": "d1107790",
   "metadata": {},
   "outputs": [
    {
     "name": "stdout",
     "output_type": "stream",
     "text": [
      "Best Hyperparameters: {'subsample': 0.9, 'n_estimators': 100, 'min_samples_split': 10, 'min_samples_leaf': 4, 'max_features': 'sqrt', 'max_depth': 6, 'learning_rate': 0.2}\n"
     ]
    }
   ],
   "source": [
    "from sklearn.model_selection import RandomizedSearchCV\n",
    "\n",
    "param_dist = {\n",
    "    'learning_rate': [0.01, 0.1, 0.2, 0.3],\n",
    "    'n_estimators': [50, 100, 200, 300],\n",
    "    'max_depth': [3, 4, 5, 6],\n",
    "    'min_samples_split': [2, 5, 10],\n",
    "    'min_samples_leaf': [1, 2, 4],\n",
    "    'subsample': [0.8, 0.9, 1.0],\n",
    "    'max_features': ['auto', 'sqrt', 'log2']\n",
    "}\n",
    "\n",
    "random_gbr = RandomizedSearchCV(estimator=gb_reg, param_distributions=param_dist, n_iter=10, cv=5, scoring='neg_mean_squared_error', n_jobs=-1, random_state=42)\n",
    "\n",
    "random_gbr.fit(x_train, y_train)\n",
    "\n",
    "best_params = random_gbr.best_params_\n",
    "print(f\"Best Hyperparameters: {best_params}\")\n",
    "best_gb_reg = random_gbr.best_estimator_"
   ]
  },
  {
   "cell_type": "code",
   "execution_count": 190,
   "id": "4438248c",
   "metadata": {},
   "outputs": [
    {
     "data": {
      "text/plain": [
       "{('The Adjusted R2 score for this alogorithm is   :', 0.89549624540825),\n",
       " ('The Mean Absolute Error for this alogorithm is :', 827.2803094909684),\n",
       " ('The Mean Squared Error for this alogorithm is  :', 2143650.3386952523),\n",
       " ('The R2 score for this alogorithm is            :', 0.8960050651871612)}"
      ]
     },
     "execution_count": 190,
     "metadata": {},
     "output_type": "execute_result"
    }
   ],
   "source": [
    "evaluation_score(random_gbr)"
   ]
  },
  {
   "cell_type": "markdown",
   "id": "4f5e46b7",
   "metadata": {},
   "source": [
    "### SUMMARY OF THE PROJECT"
   ]
  },
  {
   "cell_type": "markdown",
   "id": "7d924695",
   "metadata": {},
   "source": [
    "### Model Comparison Report"
   ]
  },
  {
   "cell_type": "markdown",
   "id": "903a2b8b",
   "metadata": {},
   "source": [
    "###### The business case of the Flight Fare Data set was to build a machine learning model to help predict the fare of various airlines in the future and let people decide and plan their travel. The data set has 10 features like Airline, Destination, Source, Departure time, Arrival time etc. The data set has a target column (output) as Price of the tickets purchased by the passengers who travelled earlier. Based on these previous records, we had to build a model which could predict the future prices of the tickets and help travelers choose the best priced Airline for their future trips which could be cheaper for them.\n",
    "\n",
    "To make predictions based on the available data set, different Machine Learning Algorithms were build as mentioned below:\n",
    "1. Linear Regression \n",
    "2. Support Vector Machine\n",
    "3. K-Nearest Neighbour\n",
    "4. Decision Tree\n",
    "5. Random Forest\n",
    "6. XGBoost\n",
    "7. Gradient Boosting\n",
    "\n",
    "Out of all models above, **Random Forest Algorithm**, **XGBoost Algorithm** and **Gradient Boosting Algorithm** performed best with a **R2 score of 0.87, 0.85 and 0.83** respectively. After **Hyperparameter Tuning**, all these algorithms gave an improved **R2 score of 0.89**.\n",
    "\n",
    "In other words, it can be said that 89% of the data are fitting correctly into the model. "
   ]
  },
  {
   "attachments": {},
   "cell_type": "markdown",
   "id": "cd00d3ab-80e8-4cd5-8e4c-e9c90b508757",
   "metadata": {},
   "source": [
    "## Report on Challenges Faced\n",
    "\n",
    "**Missing Values:**\n",
    "There were very less missing data in the data set in Route and Total_Stops columns. These null values were dropped as such less missing data will not impact the data set\n",
    "\n",
    "**Date Formatting:**\n",
    "The \"Date_of_Journey\" column was not in a standard date format and this was challenging in performing the date based analyses. Hence, we used the below mentioned technique to handled these data.\n",
    "- Date Parsing: The \"Date_of_Journey\" column was converted to a standardized date format (e.g., YYYY-MM-DD) to facilitate date-based calculations and comparisons. This was done by splitting the date string, extracting day, month, and year and then reformatting was done.\n",
    "\n",
    "**Duration Data:**\n",
    "The \"Duration\" column contained values in a non-standard format (e.g., \"2h 50m\"). Extracting meaningful insights from this column required converting it into a numeric format.\n",
    "\n",
    "**The Technique used here is as follows:**\n",
    "- Duration Conversion: The \"Duration\" column was transformed into a numeric format, representing the total duration of the journey in minutes. This involved splitting the string, extracting hours and minutes and converting them into minutes for easy analysis.\n",
    "\n",
    "**Categorical Data:**\n",
    "There were several columns like \"Airline,\" \"Source,\" \"Destination,\" and \"Total_Stops,\" that were categorical in nature. Theses columns were handled using Label Encoder and converted to Numerical Data type."
   ]
  },
  {
   "cell_type": "markdown",
   "id": "b51bcb46",
   "metadata": {},
   "source": [
    "## Conclusion"
   ]
  },
  {
   "cell_type": "markdown",
   "id": "557e243c",
   "metadata": {},
   "source": [
    "Using Flight Fare Prediction Dataset, we analyzed various data provided using different exploratory data analysis methods with the help of seaborn and matplotlip libraries. This data set is a supervised learning dataset so we used various regression models to do some predictions about the price of the flight based on some features like type of airline, what is the arrival time, what is the departure time, what is the duration of the flight, source, destination etc. \n",
    "\n",
    "It can be concluded that among various models applied to this dataset, **Random Forest Algorithm**, **XGBoost Algorithm** and **Gradient Boosting Algorithm** performed best. The R2 score for all three algorithms were 0.89 which means that almost 89% of the data fit perfectly into the model and hence do the correct prediction."
   ]
  },
  {
   "cell_type": "code",
   "execution_count": null,
   "id": "fe4dc8c1",
   "metadata": {},
   "outputs": [],
   "source": []
  }
 ],
 "metadata": {
  "kernelspec": {
   "display_name": "Python 3 (ipykernel)",
   "language": "python",
   "name": "python3"
  },
  "language_info": {
   "codemirror_mode": {
    "name": "ipython",
    "version": 3
   },
   "file_extension": ".py",
   "mimetype": "text/x-python",
   "name": "python",
   "nbconvert_exporter": "python",
   "pygments_lexer": "ipython3",
   "version": "3.12.4"
  }
 },
 "nbformat": 4,
 "nbformat_minor": 5
}
